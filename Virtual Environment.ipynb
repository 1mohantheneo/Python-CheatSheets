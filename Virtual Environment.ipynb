{
 "cells": [
  {
   "cell_type": "markdown",
   "id": "2c5f7355-ccb0-49d7-b039-4a2e9275045f",
   "metadata": {},
   "source": [
    "# Virtual Environment"
   ]
  },
  {
   "cell_type": "code",
   "execution_count": 1,
   "id": "3b8409d6-0104-4858-b0f1-4da19fd17328",
   "metadata": {},
   "outputs": [],
   "source": [
    "# A virtual environment ia an isolated Python environment."
   ]
  },
  {
   "cell_type": "code",
   "execution_count": 21,
   "id": "d9666fcb-286f-4b2d-8758-5503bf7380e7",
   "metadata": {},
   "outputs": [],
   "source": [
    "# Python applications will often use packages and modules that don't come as part of the standard library. Applications will sometimes need a specific\n",
    "#version of a library, because the application may require that a particular bug has benn fixed or the application may be written using an obselete\n",
    "#version of the library interface."
   ]
  },
  {
   "cell_type": "code",
   "execution_count": 22,
   "id": "96627b2e-2cea-4a1f-8e5e-e2e298532f23",
   "metadata": {},
   "outputs": [],
   "source": [
    "# This means it may not be possible for one Python installation to meet the requirments of every application. If application A needs version 1.0 of\n",
    "# a particular module but application B needs version 2.0, then the requirments are in conflict and installing either version 1.0 or 2.0 \n",
    "# will leave one application unable to run."
   ]
  },
  {
   "cell_type": "code",
   "execution_count": null,
   "id": "6b438c3c-3d1d-4fa7-b85e-07d35f01aec7",
   "metadata": {},
   "outputs": [],
   "source": [
    "# The solution for this problem is to create a virtual environment, a self -contained directory tree that contains a Python installation for \n",
    "# a particular version of Python, plus a number of additional packages."
   ]
  },
  {
   "cell_type": "code",
   "execution_count": 2,
   "id": "0f21b2b9-1c17-4886-bda5-c4b57829ab4a",
   "metadata": {},
   "outputs": [],
   "source": [
    "# Virtual environment allows you to install Python packages in an isolated self-contained environment."
   ]
  },
  {
   "cell_type": "code",
   "execution_count": 4,
   "id": "e6b2f6f4-8a09-46ec-a463-809488d115fd",
   "metadata": {},
   "outputs": [],
   "source": [
    "# You can set up your own libraries and dependencies without affecting the system Python."
   ]
  },
  {
   "cell_type": "code",
   "execution_count": null,
   "id": "d35b5170-c82f-4e55-b566-f3bb7a3a0599",
   "metadata": {},
   "outputs": [],
   "source": [
    "# There are different packages that can be used to create a virtual environment."
   ]
  },
  {
   "cell_type": "markdown",
   "id": "0dd59a60-a7ff-486b-b10a-48ff433a4891",
   "metadata": {},
   "source": [
    "## Here are some Python modules that are used for managing virtual environments:"
   ]
  },
  {
   "cell_type": "markdown",
   "id": "3f926743-bd1f-4499-990a-aaa9d21a9c65",
   "metadata": {},
   "source": [
    "## 1. venv"
   ]
  },
  {
   "cell_type": "code",
   "execution_count": 23,
   "id": "4a3a4373-d5fd-4ebd-a880-87228a613589",
   "metadata": {},
   "outputs": [],
   "source": [
    "# venv is the built-in Python module for creating and managing virtual environments. It was introduced in Python 3.3 and is available on all Platforms."
   ]
  },
  {
   "cell_type": "code",
   "execution_count": 26,
   "id": "07b44b6c-33c7-4ec7-bfb2-18e7d9251b67",
   "metadata": {},
   "outputs": [],
   "source": [
    "# Here are some examples of how to use these modules:"
   ]
  },
  {
   "cell_type": "code",
   "execution_count": 27,
   "id": "c385e9a7-c9fd-4d3b-a69f-eea741d6ac7d",
   "metadata": {},
   "outputs": [],
   "source": [
    "# create a new virtual environment\n",
    "# python3 -m venv my_venv"
   ]
  },
  {
   "cell_type": "code",
   "execution_count": 28,
   "id": "24330443-c0af-4a9e-a8ad-edf62ac4476d",
   "metadata": {},
   "outputs": [],
   "source": [
    "# Activate the virtual environment\n",
    "# source my_venv/bin/activate"
   ]
  },
  {
   "cell_type": "code",
   "execution_count": 29,
   "id": "b07bdc9d-aa27-43e8-9dfd-0ff68ce990b1",
   "metadata": {},
   "outputs": [],
   "source": [
    "# Install a Python package in the virtual environment\n",
    "# pip install my_package"
   ]
  },
  {
   "cell_type": "code",
   "execution_count": 30,
   "id": "e964a041-20b8-4eb5-8ea3-8720415e6143",
   "metadata": {},
   "outputs": [],
   "source": [
    "# Deactivate the virtual environment\n",
    "# deactivate"
   ]
  },
  {
   "cell_type": "markdown",
   "id": "6fa8dfa8-0a25-49a5-bce4-41a7317707f4",
   "metadata": {},
   "source": [
    "### Managing packages with pip"
   ]
  },
  {
   "cell_type": "code",
   "execution_count": null,
   "id": "2a7d69d1-ed45-4309-b662-f5b498dcc8ff",
   "metadata": {},
   "outputs": [],
   "source": [
    "# You can install, upgrade, and remove packages using a program called pip.\n",
    "# By default, pip will install packages from the Python Package Index.\n",
    "# You can browse the Python Package Index by going it in your web browser."
   ]
  },
  {
   "cell_type": "markdown",
   "id": "e84979ef-5b6e-44a4-adbb-36919c86db90",
   "metadata": {},
   "source": [
    "### pip has a number of subcommands:\n",
    "### \"install\", \"uninstall\", \"freeze\", ect."
   ]
  },
  {
   "cell_type": "code",
   "execution_count": 42,
   "id": "058c5bb4-0688-4313-82cd-1450885b94c9",
   "metadata": {},
   "outputs": [],
   "source": [
    "# You can install the latest version of a package by specifying a package's name:\n",
    "# (virtual_env) python -m pip install requests"
   ]
  },
  {
   "cell_type": "code",
   "execution_count": 43,
   "id": "5c8ddc30-bcc1-4d25-ab64-75ad2db64bdf",
   "metadata": {},
   "outputs": [],
   "source": [
    "# You can also install a specific version of a package by giving the package name followed by == and the version number:\n",
    "# (virtual_env) python -m pip install requests==2.6.4"
   ]
  },
  {
   "cell_type": "code",
   "execution_count": null,
   "id": "d851ff5e-245e-4651-a34c-73f3eb4c40f6",
   "metadata": {},
   "outputs": [],
   "source": [
    "# If you re-run this command, pip will notice that the requested version is already installed and do nothing.\n",
    "# You can supply a different version number to get that version, or you can run\n",
    "# (virual_env) python -m pip install --upgrade    to upgrade the package to the latest version."
   ]
  },
  {
   "cell_type": "markdown",
   "id": "ca4697e6-ac66-41d2-9165-267c626e7637",
   "metadata": {},
   "source": [
    "## Display all of the packages installed in system or virtual environment"
   ]
  },
  {
   "cell_type": "markdown",
   "id": "16b4cd7a-7a47-477d-a7ae-8afa532271e8",
   "metadata": {},
   "source": [
    "### python -m pip list"
   ]
  },
  {
   "cell_type": "markdown",
   "id": "49523910-936b-4eee-82c4-00341fe76e62",
   "metadata": {},
   "source": [
    "### python -m pip freeze"
   ]
  },
  {
   "cell_type": "code",
   "execution_count": 45,
   "id": "9b081a6e-e8e1-4c23-a88c-cf23b4602e32",
   "metadata": {},
   "outputs": [],
   "source": [
    "# python -m pip freeze will produce a similar list of the installed packages, but the output uses the format that  python -m pip install expects."
   ]
  },
  {
   "cell_type": "markdown",
   "id": "610ccb62-a8c4-4f5a-8671-9a40c2619c21",
   "metadata": {},
   "source": [
    "## Display information about a particular package:"
   ]
  },
  {
   "cell_type": "markdown",
   "id": "ca022430-13ea-4a73-bca7-07bbbe091e99",
   "metadata": {},
   "source": [
    "### python -m pip show package_name"
   ]
  },
  {
   "cell_type": "markdown",
   "id": "451a6356-8f10-4a89-ae8f-a9fc05e00d13",
   "metadata": {},
   "source": [
    "### eg: python -m pip show setuptools"
   ]
  },
  {
   "cell_type": "markdown",
   "id": "d2d8b8fd-03a3-4d8a-89f6-c7c346c313f5",
   "metadata": {},
   "source": [
    "## Uninstall one or more packages from system or virual environment"
   ]
  },
  {
   "cell_type": "markdown",
   "id": "e0e508d6-c449-4d68-b60d-430fb037fa8a",
   "metadata": {},
   "source": [
    "### python -m pip uninstall package_name"
   ]
  },
  {
   "cell_type": "code",
   "execution_count": 44,
   "id": "bc36940a-64df-4852-915d-3db7163f3109",
   "metadata": {},
   "outputs": [],
   "source": [
    "# Proceed(y/n)?"
   ]
  },
  {
   "cell_type": "markdown",
   "id": "eff59607-855f-4725-9c74-ee427a3c53df",
   "metadata": {},
   "source": [
    "## 2. virtualenv"
   ]
  },
  {
   "cell_type": "code",
   "execution_count": 24,
   "id": "25576e45-bae5-400c-a072-71616b40ae15",
   "metadata": {},
   "outputs": [],
   "source": [
    "# virtualenv is a third-party module that is similar to venv, but it has some additional features, such as the ability to create \n",
    "# virtual environments with specific versions of Python and pip."
   ]
  },
  {
   "cell_type": "code",
   "execution_count": 32,
   "id": "d9e3717a-3486-452d-9b6b-83e13bd10c0f",
   "metadata": {},
   "outputs": [],
   "source": [
    "# Create a new virtual environment with a specific version of Python\n",
    "# virtualenv -p python3.7 my_venv"
   ]
  },
  {
   "cell_type": "code",
   "execution_count": null,
   "id": "30fe64ed-bc4a-4031-8ed2-c9f56de47be3",
   "metadata": {},
   "outputs": [],
   "source": [
    "# Activate the virtual environment\n",
    "# source my_venv/bin/activate"
   ]
  },
  {
   "cell_type": "code",
   "execution_count": 33,
   "id": "ef7745e2-2539-493e-a986-4ed0d2587c24",
   "metadata": {},
   "outputs": [],
   "source": [
    "# Install a Python package inthe virtual environment\n",
    "# pip install my_package"
   ]
  },
  {
   "cell_type": "code",
   "execution_count": null,
   "id": "7d754905-1260-44f7-8a68-84707d4da5bd",
   "metadata": {},
   "outputs": [],
   "source": [
    "# Deactivate the virtual environment\n",
    "# deactivate"
   ]
  },
  {
   "cell_type": "markdown",
   "id": "aeec7ff9-b53c-456b-911b-edbc27e6c160",
   "metadata": {},
   "source": [
    "## 3. virtualenvwrapper"
   ]
  },
  {
   "cell_type": "code",
   "execution_count": 25,
   "id": "ad632063-7c7e-4cd3-88e1-05fb94ffe456",
   "metadata": {},
   "outputs": [],
   "source": [
    "# virtualenvwrapper is a third-party module that provides a set of commands for managing virtual environments. It makes it easy to create , activate,\n",
    "# and delete virtual environments, and it also provides some useful features, such as ability to list all of the virtual environments on your system."
   ]
  },
  {
   "cell_type": "code",
   "execution_count": 35,
   "id": "e675fd40-7e3e-42bc-9e6e-4ac92db4757f",
   "metadata": {},
   "outputs": [],
   "source": [
    "# Create a new virtual environment and list all of the virtual environments on your system\n",
    "# virtualenvwrapper.create my_venv\n",
    "# virtualenvwrapper.list"
   ]
  },
  {
   "cell_type": "code",
   "execution_count": 36,
   "id": "d38cef77-f854-439d-b70d-202e936e05b6",
   "metadata": {},
   "outputs": [],
   "source": [
    "# Activate the virtual environment\n",
    "# workon my_venv"
   ]
  },
  {
   "cell_type": "code",
   "execution_count": 37,
   "id": "315b2dde-39be-4a1e-b32c-33ff7ea345cc",
   "metadata": {},
   "outputs": [],
   "source": [
    "# Install a Python package in the virtual environment\n",
    "# pip install my_package"
   ]
  },
  {
   "cell_type": "code",
   "execution_count": null,
   "id": "f90590aa-1381-4ee0-bdb6-b482e539c68e",
   "metadata": {},
   "outputs": [],
   "source": [
    "# Deactivate the virtual environment\n",
    "# deactivate"
   ]
  },
  {
   "cell_type": "markdown",
   "id": "ca6684db-fce6-4cc2-8612-ab481faf7c2a",
   "metadata": {},
   "source": [
    "## 4. pipenv"
   ]
  },
  {
   "cell_type": "code",
   "execution_count": null,
   "id": "edb0bef1-244a-43ae-bc3a-cda532b95d04",
   "metadata": {},
   "outputs": [],
   "source": [
    "# pipenv is a third-party module that combines virtualenv with pip, the Python package manager. It makes it easy to install and manage Python packages\n",
    "# in virtual environments."
   ]
  },
  {
   "cell_type": "code",
   "execution_count": 38,
   "id": "e1eb04ea-c6db-48e6-984a-642302dffdc8",
   "metadata": {},
   "outputs": [],
   "source": [
    "# Create a new virtual environment and install a Python package in it\n",
    "# pipenv install my_package"
   ]
  },
  {
   "cell_type": "code",
   "execution_count": 39,
   "id": "f0428c83-b0fa-4cf3-95f0-7e53b3d47c4a",
   "metadata": {},
   "outputs": [],
   "source": [
    "# Activate the virtual environment\n",
    "# pipenv shell"
   ]
  },
  {
   "cell_type": "code",
   "execution_count": 40,
   "id": "7fbf18eb-1316-49e9-8fe9-1f4264ce5af1",
   "metadata": {},
   "outputs": [],
   "source": [
    "# Install another Python package in the virtual enviroment\n",
    "# pipenv install another_package"
   ]
  },
  {
   "cell_type": "code",
   "execution_count": 41,
   "id": "805f9b45-d4bb-4f53-a998-f2a562678555",
   "metadata": {},
   "outputs": [],
   "source": [
    "# Deactivate the virtual environment\n",
    "# exit"
   ]
  },
  {
   "cell_type": "markdown",
   "id": "ae07b5bb-30b2-4e7c-8aad-bc5403db51b2",
   "metadata": {},
   "source": [
    "## Create virtual environment in python"
   ]
  },
  {
   "cell_type": "markdown",
   "id": "e356195e-e855-41f3-a275-7cc300987d89",
   "metadata": {},
   "source": [
    "### We use a module named *virtualenv* which is used to create virtual environments in Python, isolated from system environment Python."
   ]
  },
  {
   "cell_type": "code",
   "execution_count": 6,
   "id": "5295da31-b2ae-481c-a7a5-bb2d9e567f5b",
   "metadata": {},
   "outputs": [],
   "source": [
    "# virtualenv creates a folder that contains all the necessary executables to use the packages that a Python project would need."
   ]
  },
  {
   "cell_type": "markdown",
   "id": "c4787d58-cfa3-49cd-ace1-3b72a08e9434",
   "metadata": {},
   "source": [
    "### Installing virtualenv"
   ]
  },
  {
   "cell_type": "markdown",
   "id": "bc87e5bd-55c1-4ac9-81b8-ffac947f6ca2",
   "metadata": {},
   "source": [
    "## pip install virtualenv"
   ]
  },
  {
   "cell_type": "code",
   "execution_count": 7,
   "id": "4a179d5a-94f8-4d14-9d7f-c44eaf9188f2",
   "metadata": {},
   "outputs": [],
   "source": [
    "### Test your installation"
   ]
  },
  {
   "cell_type": "markdown",
   "id": "b3306d66-83ab-48fb-8930-126c6674e057",
   "metadata": {},
   "source": [
    "## virtualenv --version"
   ]
  },
  {
   "cell_type": "markdown",
   "id": "8c8ff48a-8186-45af-bab1-e7299d3fcc17",
   "metadata": {},
   "source": [
    "### Create a new virtual environment"
   ]
  },
  {
   "cell_type": "code",
   "execution_count": 9,
   "id": "b4ebb34a-79db-4dea-92ad-4c5818f689de",
   "metadata": {},
   "outputs": [],
   "source": [
    "# You can create a virualenv using the following command:\n",
    "# eg: virtualenv named play_ground"
   ]
  },
  {
   "cell_type": "markdown",
   "id": "4f6983b4-f3fb-4049-897a-b9d267264bf8",
   "metadata": {},
   "source": [
    "## virtualenv play_ground"
   ]
  },
  {
   "cell_type": "code",
   "execution_count": 11,
   "id": "6540a9f3-c689-41ee-84af-d234d7b16130",
   "metadata": {},
   "outputs": [],
   "source": [
    "# After running this command , a directory named play_ground will be created. This is the directory that contains all the necessary executables to use\n",
    "#the packages that a Python project would need."
   ]
  },
  {
   "cell_type": "code",
   "execution_count": null,
   "id": "32ecaebb-a4ab-43f5-b9cb-0dfc1c830e26",
   "metadata": {},
   "outputs": [],
   "source": [
    "# This is where Python packages will be installed. "
   ]
  },
  {
   "cell_type": "code",
   "execution_count": 12,
   "id": "4ae35a08-da25-4e75-b253-674e4e9e6ee8",
   "metadata": {},
   "outputs": [],
   "source": [
    "## If you want tospecify the python interpreter of your choice, for example, Python 3, it can be done using following command:"
   ]
  },
  {
   "cell_type": "markdown",
   "id": "d4d3274d-24fc-49c9-b983-75596767e85e",
   "metadata": {},
   "source": [
    "## virtualenv -p /usr/bin/python3 virtualenv_name"
   ]
  },
  {
   "cell_type": "markdown",
   "id": "b80bea7e-b081-4011-b652-6d0c8bb800e7",
   "metadata": {},
   "source": [
    "## Activating a Virtual Environment in Python"
   ]
  },
  {
   "cell_type": "code",
   "execution_count": 13,
   "id": "8c72ff12-e8e7-4315-bd6d-492245848aa2",
   "metadata": {},
   "outputs": [],
   "source": [
    "# Now after creating a virtual environment, you need to activate it.\n",
    "# Remember to activate the relevent virtual environment every time you work on the project.\n",
    "# This can be done using the following command:"
   ]
  },
  {
   "cell_type": "code",
   "execution_count": 14,
   "id": "afd83450-0be0-4be3-bce0-3baeb19113a9",
   "metadata": {},
   "outputs": [],
   "source": [
    "# To activate virtual environment using windows command prompt change directory to your virtual env.\n",
    "# Then use below command:"
   ]
  },
  {
   "cell_type": "markdown",
   "id": "03ab6000-7a4b-4bd0-ae26-816bd2a6ab34",
   "metadata": {},
   "source": [
    "## cd < envname >\n",
    "## Scripts\\activate"
   ]
  },
  {
   "cell_type": "code",
   "execution_count": 15,
   "id": "a4ad2e0b-99c3-46bb-950c-1938d74c8341",
   "metadata": {},
   "outputs": [],
   "source": [
    "# Once the virtual environment is activated, the name of your virtual environment will appear on the left side of the terminal."
   ]
  },
  {
   "cell_type": "markdown",
   "id": "2b6d0aa9-0b52-4e7f-90de-42dad08eb148",
   "metadata": {},
   "source": [
    "## (play_ground) C:\\Users\\Mohan\\play_ground>"
   ]
  },
  {
   "cell_type": "code",
   "execution_count": 16,
   "id": "33accb9e-136f-47d7-8912-7e95052ff5a2",
   "metadata": {},
   "outputs": [],
   "source": [
    "# This will let you know that the virtual environment is currently active."
   ]
  },
  {
   "cell_type": "markdown",
   "id": "bc743384-0f84-47c4-a383-9fcc263ee3bc",
   "metadata": {},
   "source": [
    "## Installing dependencies in Virtual Environment Python"
   ]
  },
  {
   "cell_type": "code",
   "execution_count": 17,
   "id": "942c0b47-29d7-4715-bace-eb9205677d29",
   "metadata": {},
   "outputs": [],
   "source": [
    "# Once the named virtual environment is active. \n",
    "# You can install dependencies related to the project in this virtual environment. "
   ]
  },
  {
   "cell_type": "code",
   "execution_count": 18,
   "id": "06f157ef-42fb-49b5-998e-f2b6a87b2cb7",
   "metadata": {},
   "outputs": [],
   "source": [
    "# For example, if you are using Django 1.9 for a project, you can install it like you install other packages."
   ]
  },
  {
   "cell_type": "markdown",
   "id": "38950c3c-473f-4cbe-bd36-03c3c598689e",
   "metadata": {},
   "source": [
    "## (Virtualenv_name) pip install Django==1.9"
   ]
  },
  {
   "cell_type": "code",
   "execution_count": 19,
   "id": "623d0d86-025d-4629-8578-e5257eb3b890",
   "metadata": {},
   "outputs": [],
   "source": [
    "# The Django 1.9 package will be installed in virtualenv_name folder and will be isolatd from the complete system."
   ]
  },
  {
   "cell_type": "markdown",
   "id": "f0f4923c-0bdc-433c-a41f-8e621a626981",
   "metadata": {},
   "source": [
    "## Deactivate Python Virtual Environment"
   ]
  },
  {
   "cell_type": "code",
   "execution_count": 20,
   "id": "7ea38837-d2ec-4c75-ba72-ce29064c2fa3",
   "metadata": {},
   "outputs": [],
   "source": [
    "# Once you are done with your work, you can deactivate the virtual environment by the following command:"
   ]
  },
  {
   "cell_type": "markdown",
   "id": "21826e09-bd15-40de-8e52-836a65335926",
   "metadata": {},
   "source": [
    "## (virtualenv_name) deactivate"
   ]
  },
  {
   "cell_type": "code",
   "execution_count": null,
   "id": "84af84a6-e467-477e-a076-f6042169cb52",
   "metadata": {},
   "outputs": [],
   "source": []
  }
 ],
 "metadata": {
  "kernelspec": {
   "display_name": "Python 3 (ipykernel)",
   "language": "python",
   "name": "python3"
  },
  "language_info": {
   "codemirror_mode": {
    "name": "ipython",
    "version": 3
   },
   "file_extension": ".py",
   "mimetype": "text/x-python",
   "name": "python",
   "nbconvert_exporter": "python",
   "pygments_lexer": "ipython3",
   "version": "3.11.5"
  }
 },
 "nbformat": 4,
 "nbformat_minor": 5
}

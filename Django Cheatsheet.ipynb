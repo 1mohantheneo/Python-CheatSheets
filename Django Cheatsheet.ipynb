{
 "cells": [
  {
   "cell_type": "markdown",
   "id": "4a9e367a-c0a1-4c15-b03b-f4d2581e610f",
   "metadata": {},
   "source": [
    "# Django Cheatsheet"
   ]
  },
  {
   "cell_type": "code",
   "execution_count": 1,
   "id": "7308ce61-1bde-40c3-a2ba-5d42b57f624c",
   "metadata": {},
   "outputs": [],
   "source": [
    "# Django is a high-level Python web framework that encourages rapid development and clean, pragmatic design."
   ]
  },
  {
   "cell_type": "code",
   "execution_count": 2,
   "id": "9b1e388b",
   "metadata": {},
   "outputs": [],
   "source": [
    "# Django ia a back-end server side web framework."
   ]
  },
  {
   "cell_type": "code",
   "execution_count": 3,
   "id": "9572417c",
   "metadata": {},
   "outputs": [],
   "source": [
    "# Django is free, open source and written in python."
   ]
  },
  {
   "cell_type": "code",
   "execution_count": 4,
   "id": "1125a379",
   "metadata": {},
   "outputs": [],
   "source": [
    "# Django makes it easier to build web pages using Python"
   ]
  },
  {
   "cell_type": "markdown",
   "id": "6180ffa7",
   "metadata": {},
   "source": [
    "## Django follows the MVT design pattern (Model View Template)."
   ]
  },
  {
   "cell_type": "markdown",
   "id": "314ae676",
   "metadata": {},
   "source": [
    "### Model - The data you want to present, usually data from a database."
   ]
  },
  {
   "cell_type": "code",
   "execution_count": null,
   "id": "437eee45",
   "metadata": {},
   "outputs": [],
   "source": [
    "# The model provides data from the database."
   ]
  },
  {
   "cell_type": "code",
   "execution_count": null,
   "id": "d9bf5462",
   "metadata": {},
   "outputs": [],
   "source": [
    "# In Django, the data is delivered as an Object Relation Mapping(ORM), which is a technique designed to make it easier to work\n",
    "# with databases. The most common way to extract data from a database is SQL. One problem with SQL is that you have to have a \n",
    "# pretty good understanding of the database structure to be able to work with it."
   ]
  },
  {
   "cell_type": "code",
   "execution_count": 6,
   "id": "ad5f92f6",
   "metadata": {},
   "outputs": [],
   "source": [
    "# Django , with ORM, makes it easier to communicate with the database, without having to write complex SQL statements."
   ]
  },
  {
   "cell_type": "code",
   "execution_count": 7,
   "id": "06da12d3",
   "metadata": {},
   "outputs": [],
   "source": [
    "# The models are usually locaed in a file called models.py"
   ]
  },
  {
   "cell_type": "markdown",
   "id": "943fa5d3",
   "metadata": {},
   "source": [
    "### View - A request handler that returns the relevant template and content based on the request from the user."
   ]
  },
  {
   "cell_type": "code",
   "execution_count": null,
   "id": "96768166",
   "metadata": {},
   "outputs": [],
   "source": [
    "# A view is a function or method that takes http requests as arguments, imports the relevant models, and find out what data to\n",
    "# send to the template, and return the final result."
   ]
  },
  {
   "cell_type": "code",
   "execution_count": 8,
   "id": "dfb13116",
   "metadata": {},
   "outputs": [],
   "source": [
    "# The views are usually located in a file called views.py"
   ]
  },
  {
   "cell_type": "markdown",
   "id": "d9835591",
   "metadata": {},
   "source": [
    "### Template - A text file (like an HTML file) containing the layout of the web page, with logic on how to display the data."
   ]
  },
  {
   "cell_type": "code",
   "execution_count": null,
   "id": "b4a883b5",
   "metadata": {},
   "outputs": [],
   "source": [
    "# A template is a file where you describe how the result should be represented."
   ]
  },
  {
   "cell_type": "code",
   "execution_count": null,
   "id": "7144d018",
   "metadata": {},
   "outputs": [],
   "source": [
    "# Templates are often .html files, with HTML code describing the layout of a web page, but it can also be in other file format\n",
    "# to present other results."
   ]
  },
  {
   "cell_type": "code",
   "execution_count": null,
   "id": "d4ddb806",
   "metadata": {},
   "outputs": [],
   "source": [
    "# The templates of an application is locatedin a folder named templates."
   ]
  },
  {
   "cell_type": "code",
   "execution_count": null,
   "id": "3f6bcbd8",
   "metadata": {},
   "outputs": [],
   "source": [
    "# Before you can use Django, you need to install it"
   ]
  },
  {
   "cell_type": "markdown",
   "id": "bdcf65b4",
   "metadata": {},
   "source": [
    "## Django is installed using following command:"
   ]
  },
  {
   "cell_type": "markdown",
   "id": "475f44a4",
   "metadata": {},
   "source": [
    "### python -m pip install django"
   ]
  },
  {
   "cell_type": "markdown",
   "id": "e56707da",
   "metadata": {},
   "source": [
    "## Create Django project"
   ]
  },
  {
   "cell_type": "markdown",
   "id": "46e32bd5",
   "metadata": {},
   "source": [
    "### django-admin startproject projectname."
   ]
  },
  {
   "cell_type": "code",
   "execution_count": 9,
   "id": "178735a5",
   "metadata": {},
   "outputs": [],
   "source": []
  },
  {
   "cell_type": "code",
   "execution_count": null,
   "id": "c972ff41",
   "metadata": {},
   "outputs": [],
   "source": []
  }
 ],
 "metadata": {
  "kernelspec": {
   "display_name": "Python 3 (ipykernel)",
   "language": "python",
   "name": "python3"
  },
  "language_info": {
   "codemirror_mode": {
    "name": "ipython",
    "version": 3
   },
   "file_extension": ".py",
   "mimetype": "text/x-python",
   "name": "python",
   "nbconvert_exporter": "python",
   "pygments_lexer": "ipython3",
   "version": "3.11.5"
  }
 },
 "nbformat": 4,
 "nbformat_minor": 5
}

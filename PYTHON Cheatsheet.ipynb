{
 "cells": [
  {
   "cell_type": "markdown",
   "id": "4ef1dc18-5953-4dc0-bbc5-27bd3c3b47ae",
   "metadata": {},
   "source": [
    "# Python Cheatsheet"
   ]
  },
  {
   "cell_type": "markdown",
   "id": "48ccbb83-bf9d-4a9a-8fe8-4925a7a7ec8f",
   "metadata": {},
   "source": [
    "Python is a simple , general purpose, dynamic, high level and object-oriented programming language."
   ]
  },
  {
   "cell_type": "markdown",
   "id": "5ff641ce-2391-4817-b553-4e2111b77a09",
   "metadata": {},
   "source": [
    "Python is an interpreted scripting language also."
   ]
  },
  {
   "cell_type": "markdown",
   "id": "973319b9-5609-4214-951c-6874defe31ce",
   "metadata": {},
   "source": [
    "Guido Van Rossum is known as the founder of python programming language."
   ]
  },
  {
   "cell_type": "markdown",
   "id": "7425c5f1-c814-43fc-8cc1-97334b12e56c",
   "metadata": {},
   "source": [
    "Python features a dynamic type system and automatic memory management and support multiple programming paradigms,\n",
    "included object-oriented, imperitive, functional programming and procedural styles."
   ]
  },
  {
   "cell_type": "markdown",
   "id": "cf051520-a5ef-4d7f-841b-0e5433961c19",
   "metadata": {},
   "source": [
    "Python is an open source project.\n",
    "Anyone can take part in developing the language by submitting bug reports or patches to the core developers."
   ]
  },
  {
   "cell_type": "markdown",
   "id": "f9d25720-e254-4773-9008-aa7ee21bb619",
   "metadata": {},
   "source": [
    "PEP => Python Enhancement Proposals is the well understood and simple process by which new features of the language are proposed and implemented."
   ]
  },
  {
   "cell_type": "code",
   "execution_count": null,
   "id": "cc6d769e-66c1-4952-a286-7205702e7737",
   "metadata": {},
   "outputs": [],
   "source": [
    "Python has a large and comprehensive standard Library."
   ]
  },
  {
   "cell_type": "markdown",
   "id": "5dc4f9de-ec61-4116-985d-8ba179674d5e",
   "metadata": {},
   "source": [
    "## Python is used in various fields :"
   ]
  },
  {
   "cell_type": "code",
   "execution_count": null,
   "id": "170ef1dc-1a22-4863-97f0-c3bb6e065d70",
   "metadata": {},
   "outputs": [],
   "source": [
    "#1. Data Science : Data science is a vast field, and Python is an important lanuage for this field because of its simplicity, ease of use, and\n",
    "availibility of powerful data analysis and virtualization libraries like Numpy, Pandas and Matplotlib."
   ]
  },
  {
   "cell_type": "markdown",
   "id": "54b9fd2d-154d-40c1-967c-c2088446605a",
   "metadata": {},
   "source": [
    "#2. Desktop Applications: PyQt and Tkinter are useful libraries that can be used in GUI - Graphical User Interface base desktop applications.\n",
    "There are better languages for this field, but it can be used with other languages for manking applications."
   ]
  },
  {
   "cell_type": "code",
   "execution_count": null,
   "id": "570f4b1e-45cd-4bbb-822b-a636a35096d9",
   "metadata": {},
   "outputs": [],
   "source": [
    "#3. Console-based Applications: Python is also commonly use to create command-line or console-based applications because of its ease of use and\n",
    "support for advance features such as input/output redirection and piping."
   ]
  },
  {
   "cell_type": "code",
   "execution_count": null,
   "id": "b45b2860-74fd-4c1b-831d-075938218fa2",
   "metadata": {},
   "outputs": [],
   "source": [
    "#4. Artificial Intelligence: AI is an emerging Technology, and Python is a perfect language for artificial intelligence and machine learning \n",
    "because of the availibility of powerful libraries such as Tensorflow, Keras, and Pytorch."
   ]
  },
  {
   "cell_type": "code",
   "execution_count": null,
   "id": "2e8b12c7-5ea1-4583-91bc-9218d4d95f36",
   "metadata": {},
   "outputs": [],
   "source": []
  },
  {
   "cell_type": "code",
   "execution_count": null,
   "id": "8aa622cb-d1d6-48c9-8a9b-b7bdb71dca21",
   "metadata": {},
   "outputs": [],
   "source": []
  },
  {
   "cell_type": "code",
   "execution_count": null,
   "id": "b81aba9c-0c6e-44a3-98a0-b8beb2dbfb1a",
   "metadata": {},
   "outputs": [],
   "source": []
  },
  {
   "cell_type": "raw",
   "id": "70ee53ac-9d3d-47e4-a7d4-3764c6505c42",
   "metadata": {},
   "source": [
    "# Python is a case sensitive language.\n",
    "eg:\n",
    "Apple, APPLE, apple - All are different."
   ]
  },
  {
   "cell_type": "markdown",
   "id": "9b72b3ed-7a5e-4257-a35a-c8cec8d27345",
   "metadata": {},
   "source": [
    "# Python is an intepreted language.\n"
   ]
  },
  {
   "cell_type": "code",
   "execution_count": null,
   "id": "ef876736-2e2d-4ca3-92d7-2929231ab919",
   "metadata": {},
   "outputs": [],
   "source": [
    "#Python shell acts as an interpreter for the computer."
   ]
  },
  {
   "cell_type": "markdown",
   "id": "6800efef-0f67-4b0d-b3b4-701086da2ca7",
   "metadata": {},
   "source": [
    "##Syntax Error"
   ]
  },
  {
   "cell_type": "code",
   "execution_count": 6,
   "id": "9e3e7af2-a353-4b51-8575-d6feed632765",
   "metadata": {},
   "outputs": [],
   "source": [
    "# Syntax error is an errorin the syntax of a sequence pf characters or tokens that is intended to be written in compile time."
   ]
  },
  {
   "cell_type": "markdown",
   "id": "a3e379a7-0143-4731-afff-fa6d3fd93af6",
   "metadata": {},
   "source": [
    "IDLE - Integreted Development Environment"
   ]
  },
  {
   "cell_type": "markdown",
   "id": "02e1e0b2-3f06-4823-b34f-9e0f43c064e1",
   "metadata": {},
   "source": [
    "## The Python Standard Library"
   ]
  },
  {
   "cell_type": "markdown",
   "id": "d63a54f2-3d74-41c7-aed3-094296d8b939",
   "metadata": {},
   "source": [
    "The python standard library supplies many well-designed , solid , 100 percent pure Python modules for convenient reuse. "
   ]
  },
  {
   "cell_type": "markdown",
   "id": "0841d095-bd10-4092-a343-ca9beb2f674b",
   "metadata": {},
   "source": [
    "It includes modules for such tasks as representing data, processing text, interacting with the operating system and filesystem and web-programming."
   ]
  },
  {
   "cell_type": "markdown",
   "id": "7c7f748d-e6e4-4918-9894-c371693cc13d",
   "metadata": {},
   "source": [
    "Because these modules are written in Python, they work on all platforms supported by Python."
   ]
  },
  {
   "cell_type": "markdown",
   "id": "60856514-cfb2-4562-bfbf-a387149d4ee1",
   "metadata": {},
   "source": [
    "## Variables"
   ]
  },
  {
   "cell_type": "code",
   "execution_count": null,
   "id": "4c0595cd-26f5-4894-903c-db1202fc46f7",
   "metadata": {},
   "outputs": [],
   "source": [
    "# Variables are used to store piece of data.\n",
    "# Variable is a name for a value.\n",
    "# Variables can store data with all kind of values. eg: string, number\n",
    "# Variables value can change.\n",
    "# Variables always points to data."
   ]
  },
  {
   "cell_type": "markdown",
   "id": "551a8cba-0f6a-44df-be89-5779705708c4",
   "metadata": {},
   "source": [
    "Python don't need to use data types to declare variables because it is dynamically typed."
   ]
  },
  {
   "cell_type": "markdown",
   "id": "192d624d-3123-4af9-90fc-5c350bbd74a5",
   "metadata": {},
   "source": [
    "## Operators"
   ]
  },
  {
   "cell_type": "markdown",
   "id": "241c01ee-1873-49a6-b598-f77b7a71c41b",
   "metadata": {},
   "source": [
    "Python programming language have operators that performs various operations on data."
   ]
  },
  {
   "cell_type": "code",
   "execution_count": null,
   "id": "4f8e8168-1e64-4720-998b-20357ec3beb3",
   "metadata": {},
   "outputs": [],
   "source": []
  }
 ],
 "metadata": {
  "kernelspec": {
   "display_name": "Python 3 (ipykernel)",
   "language": "python",
   "name": "python3"
  },
  "language_info": {
   "codemirror_mode": {
    "name": "ipython",
    "version": 3
   },
   "file_extension": ".py",
   "mimetype": "text/x-python",
   "name": "python",
   "nbconvert_exporter": "python",
   "pygments_lexer": "ipython3",
   "version": "3.7.0"
  }
 },
 "nbformat": 4,
 "nbformat_minor": 5
}

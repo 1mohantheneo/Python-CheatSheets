{
 "cells": [
  {
   "cell_type": "markdown",
   "id": "3746802f-80a0-4f98-b899-2537ca9812ce",
   "metadata": {},
   "source": [
    "# Pandas"
   ]
  },
  {
   "cell_type": "code",
   "execution_count": null,
   "id": "1e8d4ecb-2958-4804-971c-b77dbd5900c4",
   "metadata": {},
   "outputs": [],
   "source": [
    "# 1. Pandas is a library built on top of the Python programming language."
   ]
  },
  {
   "cell_type": "code",
   "execution_count": 2,
   "id": "6b3bdfd8-caa5-4308-b165-c743a437e69f",
   "metadata": {},
   "outputs": [],
   "source": [
    "# 2. Pandas is a robust tookit for analyzing, filtering, manipulating, aggregrating, merging, pivoting and cleaning data."
   ]
  },
  {
   "cell_type": "code",
   "execution_count": 3,
   "id": "dd969a46-9f4c-470e-9366-d0eaee9db2c5",
   "metadata": {},
   "outputs": [],
   "source": [
    "# 3. Pandas is synonym for \"Excel for Python\" or \"Excel on steroids.\""
   ]
  },
  {
   "cell_type": "code",
   "execution_count": 4,
   "id": "b27f7f64-9bff-4d57-a573-2826907ce1ff",
   "metadata": {},
   "outputs": [],
   "source": [
    "# 4. Basic knowledge of spreadsheet software is required."
   ]
  },
  {
   "cell_type": "code",
   "execution_count": null,
   "id": "02433b30-5395-40b6-bf22-e447b5020be4",
   "metadata": {},
   "outputs": [],
   "source": []
  }
 ],
 "metadata": {
  "kernelspec": {
   "display_name": "Python 3 (ipykernel)",
   "language": "python",
   "name": "python3"
  },
  "language_info": {
   "codemirror_mode": {
    "name": "ipython",
    "version": 3
   },
   "file_extension": ".py",
   "mimetype": "text/x-python",
   "name": "python",
   "nbconvert_exporter": "python",
   "pygments_lexer": "ipython3",
   "version": "3.11.5"
  }
 },
 "nbformat": 4,
 "nbformat_minor": 5
}

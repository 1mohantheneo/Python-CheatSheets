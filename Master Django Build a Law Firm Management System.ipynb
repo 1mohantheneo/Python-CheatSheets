{
 "cells": [
  {
   "cell_type": "code",
   "execution_count": 1,
   "id": "e10277c6-7af2-4d20-a4f0-3b3e23393a9d",
   "metadata": {},
   "outputs": [],
   "source": [
    "# Install Python"
   ]
  },
  {
   "cell_type": "code",
   "execution_count": 2,
   "id": "8c248a33-d50c-4b47-a0f4-22136d799576",
   "metadata": {},
   "outputs": [],
   "source": [
    "# open command prompt"
   ]
  },
  {
   "cell_type": "code",
   "execution_count": 3,
   "id": "c43f045e-6346-4fe3-a2c1-634a01e9cb8c",
   "metadata": {},
   "outputs": [],
   "source": [
    "# Change directory to desktop"
   ]
  },
  {
   "cell_type": "markdown",
   "id": "0e36ca50-4f5f-4c81-85aa-99e58addc171",
   "metadata": {},
   "source": [
    "### cd desktop"
   ]
  },
  {
   "cell_type": "code",
   "execution_count": 5,
   "id": "8b8d96c3-d3f3-4d27-a817-5831c4b6994e",
   "metadata": {},
   "outputs": [],
   "source": [
    "# make new directory in desktop: blsproject"
   ]
  },
  {
   "cell_type": "markdown",
   "id": "80a593fc-e2df-459e-9745-9fba3f3d706c",
   "metadata": {},
   "source": [
    "### mkdir blsproject"
   ]
  },
  {
   "cell_type": "code",
   "execution_count": 6,
   "id": "d6fe5d6a-1772-41b1-afbe-7e84c9d51607",
   "metadata": {},
   "outputs": [],
   "source": [
    "# Change directory to blsproject"
   ]
  },
  {
   "cell_type": "markdown",
   "id": "fe997a41-1959-4b98-a5ac-1d96d291fb0a",
   "metadata": {},
   "source": [
    "### cd blsproject"
   ]
  },
  {
   "cell_type": "code",
   "execution_count": 7,
   "id": "7dc0e700-d263-427c-a0fa-8aa80a888bd8",
   "metadata": {},
   "outputs": [],
   "source": [
    "# Create a new virtual environment in the blsproject directory"
   ]
  },
  {
   "cell_type": "markdown",
   "id": "d5932fdb-107a-4ebd-aedf-a83ef133290b",
   "metadata": {},
   "source": [
    "### python -m venv myenv"
   ]
  },
  {
   "cell_type": "code",
   "execution_count": 8,
   "id": "8afa494c-ed1a-4d08-8b7a-0cf9c59eaaee",
   "metadata": {},
   "outputs": [],
   "source": [
    "# Change directory to myenv"
   ]
  },
  {
   "cell_type": "markdown",
   "id": "aede2867-d6df-4c30-bcc5-13164e563dfe",
   "metadata": {},
   "source": [
    "### cd myenv"
   ]
  },
  {
   "cell_type": "code",
   "execution_count": 9,
   "id": "16ddfb1b-7486-4091-bbd3-f2d990b3e430",
   "metadata": {},
   "outputs": [],
   "source": [
    "# Activate myenv named virtual environment"
   ]
  },
  {
   "cell_type": "markdown",
   "id": "06ffae95-5880-4f45-b4ca-0e92099b48e5",
   "metadata": {},
   "source": [
    "### scripts\\activate"
   ]
  },
  {
   "cell_type": "code",
   "execution_count": 16,
   "id": "75a85f1b-4b32-4527-a90c-ba8a0345ce3a",
   "metadata": {},
   "outputs": [],
   "source": [
    "# Deactivate virtual environment"
   ]
  },
  {
   "cell_type": "markdown",
   "id": "d6f3f461-4870-483c-ae1f-aa973c8a0f72",
   "metadata": {},
   "source": [
    "### deactivate"
   ]
  },
  {
   "cell_type": "code",
   "execution_count": 17,
   "id": "37673c76-2d5d-46ea-8c7f-960166edd6c0",
   "metadata": {},
   "outputs": [],
   "source": [
    "# Go back to previous directory blsproject"
   ]
  },
  {
   "cell_type": "markdown",
   "id": "ecb4ff74-c09e-40c9-8cda-ef33a269936c",
   "metadata": {},
   "source": [
    "### cd.."
   ]
  },
  {
   "cell_type": "code",
   "execution_count": 18,
   "id": "b54e3acc-ac2d-49d8-aa3c-4bd19a608c17",
   "metadata": {},
   "outputs": [],
   "source": [
    "# Activate virtual environment in blasproject directory"
   ]
  },
  {
   "cell_type": "markdown",
   "id": "49b4546a-848b-4ee3-b674-4b2457aa9226",
   "metadata": {},
   "source": [
    "### myenv\\scripts\\activate"
   ]
  },
  {
   "cell_type": "code",
   "execution_count": 10,
   "id": "24d3d027-7112-4d4d-b81c-f66c245373b7",
   "metadata": {},
   "outputs": [],
   "source": [
    "# Upgrade pip"
   ]
  },
  {
   "cell_type": "markdown",
   "id": "6e99a511-3cb2-4905-a908-e35babda5db6",
   "metadata": {},
   "source": [
    "### python -m pip install --upgrade pip"
   ]
  },
  {
   "cell_type": "code",
   "execution_count": 13,
   "id": "2227e536-1a63-4f29-abbd-79cc3c1fa8ca",
   "metadata": {},
   "outputs": [],
   "source": [
    "# Command to check version of pip installed"
   ]
  },
  {
   "cell_type": "markdown",
   "id": "1662718f-2ed3-4211-adc2-0fcc2dee931f",
   "metadata": {},
   "source": [
    "### python -m pip --version"
   ]
  },
  {
   "cell_type": "code",
   "execution_count": 11,
   "id": "25941adc-f472-43ba-8323-e20d91b8e5cc",
   "metadata": {},
   "outputs": [],
   "source": [
    "# Install Django in the virtual environment "
   ]
  },
  {
   "cell_type": "markdown",
   "id": "595b3ccb-4b49-45cd-8b8a-de1af798d363",
   "metadata": {},
   "source": [
    "### pip install django"
   ]
  },
  {
   "cell_type": "code",
   "execution_count": 12,
   "id": "539a812c-9441-44f5-9cea-67f918bc2bca",
   "metadata": {},
   "outputs": [],
   "source": [
    "# Command to check if django is installed and version number "
   ]
  },
  {
   "cell_type": "markdown",
   "id": "760bc242-a64d-4b0e-ac5a-413feecc5794",
   "metadata": {},
   "source": [
    "### python -m django --version"
   ]
  },
  {
   "cell_type": "code",
   "execution_count": 14,
   "id": "da83caa9-2e29-41c7-9f91-8a32e9b82447",
   "metadata": {},
   "outputs": [],
   "source": [
    "# Create a django project"
   ]
  },
  {
   "cell_type": "code",
   "execution_count": 15,
   "id": "181c145f-9e2f-4342-81e6-089bb558005a",
   "metadata": {},
   "outputs": [],
   "source": [
    "# django-admin startproject projectName"
   ]
  },
  {
   "cell_type": "markdown",
   "id": "3a8da518-0587-40ba-89a1-16f96fc5add5",
   "metadata": {},
   "source": [
    "### django-admin startproject blsdjangoproject"
   ]
  },
  {
   "cell_type": "code",
   "execution_count": 19,
   "id": "06dc989f-d3d2-4a26-af03-187f0d35d2d2",
   "metadata": {},
   "outputs": [],
   "source": [
    "# Install PostgreSQL database"
   ]
  },
  {
   "cell_type": "code",
   "execution_count": 20,
   "id": "0f1a9a9f-0f61-4edc-ad8e-af1f4cdf5918",
   "metadata": {},
   "outputs": [],
   "source": [
    "# Open pgAdmin 4 from Start menu"
   ]
  },
  {
   "cell_type": "code",
   "execution_count": 22,
   "id": "ea9c9046-4244-47ff-8fe1-2c260be43f66",
   "metadata": {},
   "outputs": [],
   "source": [
    "# Install PostgreSQL Database Adapter in virtual enviroment to connect with PostgreSQL Database"
   ]
  },
  {
   "cell_type": "markdown",
   "id": "c253ce78-b4ef-435e-ad73-ec3bb6002076",
   "metadata": {},
   "source": [
    "### pip install psycopg2"
   ]
  },
  {
   "cell_type": "code",
   "execution_count": 23,
   "id": "57ef93db-d7cf-48cf-b403-522c1fee8c39",
   "metadata": {},
   "outputs": [],
   "source": [
    "# After installing psycopg2, django will be able to interact with database in the PostgreSQL Server"
   ]
  },
  {
   "cell_type": "code",
   "execution_count": 24,
   "id": "d263fe17-a19a-4476-8545-4c82f9367fce",
   "metadata": {},
   "outputs": [],
   "source": [
    "# Create a new database for django project"
   ]
  },
  {
   "cell_type": "code",
   "execution_count": 25,
   "id": "fb2a85bd-6594-4f80-a1d0-de2a85360d1a",
   "metadata": {},
   "outputs": [],
   "source": [
    "# Open pgAdmin 4 from start menu"
   ]
  },
  {
   "cell_type": "code",
   "execution_count": 26,
   "id": "743342bf-8d72-46c0-adf5-dc089b71c058",
   "metadata": {},
   "outputs": [],
   "source": [
    "# In pgAdmin 4 , create new database"
   ]
  },
  {
   "cell_type": "markdown",
   "id": "3c9d667d-5b3a-4f51-8867-c3d92caed99d",
   "metadata": {},
   "source": [
    "### select Databases => Create Database => bls"
   ]
  },
  {
   "cell_type": "code",
   "execution_count": 27,
   "id": "f01d8bd7-4ac7-4bdd-9f02-7cef15e71a52",
   "metadata": {},
   "outputs": [],
   "source": [
    "# bls database is created under Databases List"
   ]
  },
  {
   "cell_type": "code",
   "execution_count": 28,
   "id": "29881189-b27a-4916-bd83-9d22d968e054",
   "metadata": {},
   "outputs": [],
   "source": [
    "# Create a new user account in PostgreSQL Server"
   ]
  },
  {
   "cell_type": "markdown",
   "id": "dbdb495e-d343-41d5-886d-503fad3efd0e",
   "metadata": {},
   "source": [
    "### select Login/Group Roles => Create Login/Group Role =>"
   ]
  },
  {
   "cell_type": "markdown",
   "id": "f6781c75-7f53-45c5-876a-f288ab95f3c8",
   "metadata": {},
   "source": [
    "### Name = mohan, Definition: Password = Password"
   ]
  },
  {
   "cell_type": "markdown",
   "id": "737f77c0-cd95-43d5-a996-a65e8af642e0",
   "metadata": {},
   "source": [
    "### Privileges: can login?=> Yes, Superuser?=> Yes, Create roles?=> Yes, Create databases?=> Yes, Update catalog?=> Yes, Inherit rights from the parent roles?=> Yes  => Save "
   ]
  },
  {
   "cell_type": "code",
   "execution_count": 32,
   "id": "f7a8a6ed-d02e-4573-ba37-802b7841e241",
   "metadata": {},
   "outputs": [],
   "source": [
    "# Assign mohan account to bls database"
   ]
  },
  {
   "cell_type": "markdown",
   "id": "f51dad78-04c2-49de-8933-6ad1b39f4629",
   "metadata": {},
   "source": [
    "### Databases=> bls=> Owner=> mohan    =>Save"
   ]
  },
  {
   "cell_type": "code",
   "execution_count": 33,
   "id": "8c5fc5e7-d416-4038-93a4-7977307f4a2c",
   "metadata": {},
   "outputs": [],
   "source": [
    "# Setup Django Database configuration"
   ]
  },
  {
   "cell_type": "code",
   "execution_count": 34,
   "id": "1e383ad5-8bb9-4991-bd2b-dc957d17c766",
   "metadata": {},
   "outputs": [],
   "source": [
    "# Inside blsdjangoproject => Edit settings.py file"
   ]
  },
  {
   "cell_type": "code",
   "execution_count": 35,
   "id": "aba85160-a2bd-4ca9-8a96-5db71d7a3c17",
   "metadata": {},
   "outputs": [],
   "source": [
    "# Open setings.py in PyCharm or atom"
   ]
  },
  {
   "cell_type": "code",
   "execution_count": 41,
   "id": "3fd29642-ee7f-4dfc-9bff-171520741783",
   "metadata": {},
   "outputs": [],
   "source": [
    "#DATABASES = {\n",
    "#    'default': {\n",
    "#        'ENGINE': 'django.db.backends.postgresql',\n",
    "#        'NAME': 'bls',\n",
    "#        'USER': 'mohan',\n",
    "#        'PASSWORD': '11Yoddha',\n",
    "#        'HOST': 'localhost',\n",
    "#        'PORT': '5432',\n",
    "#        #'ENGINE': 'django.db.backends.sqlite3',\n",
    "#        #'NAME': BASE_DIR/ 'db.sqlite3',\n",
    "#}"
   ]
  },
  {
   "cell_type": "code",
   "execution_count": 39,
   "id": "ff541780-4221-41ea-98d8-db26ff065b3f",
   "metadata": {},
   "outputs": [],
   "source": [
    "# Save setting "
   ]
  },
  {
   "cell_type": "code",
   "execution_count": 40,
   "id": "e96fd83b-03d4-46e5-b1dd-81f4ed562240",
   "metadata": {},
   "outputs": [],
   "source": [
    "# Start Django Development Server"
   ]
  },
  {
   "cell_type": "markdown",
   "id": "398ad7dc-cdb7-4071-9ea8-20c6a92c85c8",
   "metadata": {},
   "source": [
    "### python manage.py runserver"
   ]
  },
  {
   "cell_type": "code",
   "execution_count": 42,
   "id": "caa1e306-dd41-47c5-899c-431c6c0f59aa",
   "metadata": {},
   "outputs": [],
   "source": [
    "# Starting development server at http://127.0.0.1:8000/"
   ]
  },
  {
   "cell_type": "code",
   "execution_count": 48,
   "id": "a951d157-a555-4299-a7ee-d6670839d16c",
   "metadata": {},
   "outputs": [],
   "source": [
    "# You have 18 unapplied migration(s), which means some Tables which has been not created in the dtatabase."
   ]
  },
  {
   "cell_type": "code",
   "execution_count": null,
   "id": "4bdd0352-2717-45bc-97e2-2d05b4b0f5a3",
   "metadata": {},
   "outputs": [],
   "source": [
    "# Your project may not work properly until you apply the migrations for app(s): admin,auth, contenttypes, sessions."
   ]
  },
  {
   "cell_type": "code",
   "execution_count": 43,
   "id": "0db365e5-13f8-494c-8665-f027d3216e86",
   "metadata": {},
   "outputs": [],
   "source": [
    "# Open the development server in  browser at: http://127.0.0.1:8000/"
   ]
  },
  {
   "cell_type": "code",
   "execution_count": 45,
   "id": "b95547f8-8d11-440f-b6ba-25733c077662",
   "metadata": {},
   "outputs": [],
   "source": [
    "# Quit the server with CTRL-BREAK."
   ]
  },
  {
   "cell_type": "code",
   "execution_count": 49,
   "id": "b7275b00-c702-4026-bea7-c38018e4888a",
   "metadata": {},
   "outputs": [],
   "source": [
    "# When you create a new django project, it also automatically adds some default applications which have some tables."
   ]
  },
  {
   "cell_type": "code",
   "execution_count": 50,
   "id": "ac5834bf-d698-4ce3-8127-cb869a124171",
   "metadata": {},
   "outputs": [],
   "source": [
    "# In order to generate the tables for the applications, you have to run migrations."
   ]
  },
  {
   "cell_type": "code",
   "execution_count": 51,
   "id": "25a49352-e35d-459f-a517-d5fac410aa1b",
   "metadata": {},
   "outputs": [],
   "source": [
    "# Migrations, basiclly is a way of generating or creating Tables inside a database."
   ]
  },
  {
   "cell_type": "code",
   "execution_count": 44,
   "id": "584e673b-0e0a-4536-87b8-bf9ed27b7c5b",
   "metadata": {},
   "outputs": [],
   "source": [
    "# Apply initial migrations to create Tables inside dataabase"
   ]
  },
  {
   "cell_type": "markdown",
   "id": "888fb44c-3dfd-4c04-87a8-3755ef09e5af",
   "metadata": {},
   "source": [
    "### python manage.py migrate"
   ]
  },
  {
   "cell_type": "code",
   "execution_count": 47,
   "id": "1d29a838-4b43-4fef-9f3a-21e91ea8fab5",
   "metadata": {},
   "outputs": [],
   "source": [
    "# Open pgAdmin4 => Databases=> bls=> Schemas=> public=> Tables(For the installed apps)"
   ]
  },
  {
   "cell_type": "code",
   "execution_count": 46,
   "id": "2d613870-de72-48b7-a4e7-14d52a3c2702",
   "metadata": {},
   "outputs": [],
   "source": [
    "# Again start django development server"
   ]
  },
  {
   "cell_type": "markdown",
   "id": "c44204d1-15de-417d-8868-6f03738a7138",
   "metadata": {},
   "source": [
    "### python manage.py runserver"
   ]
  },
  {
   "cell_type": "code",
   "execution_count": 52,
   "id": "764eaa50-5022-4df6-b41b-6c8764082ce8",
   "metadata": {},
   "outputs": [],
   "source": [
    "# Create a django Superuser account for django admin page.\n",
    "# It also gives you access to administrating django admin site."
   ]
  },
  {
   "cell_type": "markdown",
   "id": "77e3cc75-c3cb-4bfe-8ce4-f913a36bd4f8",
   "metadata": {},
   "source": [
    "### python manage.py createsuperuser"
   ]
  },
  {
   "cell_type": "code",
   "execution_count": 55,
   "id": "ae171087-13d7-4d06-9d0b-f0d0af1bf620",
   "metadata": {},
   "outputs": [],
   "source": [
    "# After creating Superuser, click enter to use default username\n",
    "# Enter email address\n",
    "# Enter password\n",
    "# Enter password(again)\n",
    "# Superuser created successfully."
   ]
  },
  {
   "cell_type": "code",
   "execution_count": 56,
   "id": "6406af08-ef64-4b91-b2db-eb0252e510a2",
   "metadata": {},
   "outputs": [],
   "source": [
    "# After creating Superuser, start django development server again"
   ]
  },
  {
   "cell_type": "markdown",
   "id": "70a7cc7b-ef89-475e-8323-afdc1dcda1ef",
   "metadata": {},
   "source": [
    "### python manage.py runserver"
   ]
  },
  {
   "cell_type": "code",
   "execution_count": 58,
   "id": "71155f30-7758-4f67-ba63-e8cba05536e6",
   "metadata": {},
   "outputs": [],
   "source": [
    "# To access admin site:"
   ]
  },
  {
   "cell_type": "markdown",
   "id": "54e338f9-84c4-40e5-911f-15bb721d7eca",
   "metadata": {},
   "source": [
    "### Visit development server at http://127.0.0.1:8000/admin"
   ]
  },
  {
   "cell_type": "code",
   "execution_count": 59,
   "id": "b217e85c-643f-4d9d-af78-ab2769deff27",
   "metadata": {},
   "outputs": [],
   "source": [
    "# At Django administration webpage, Enter\n",
    "# Username\n",
    "# Password\n",
    "# Log in"
   ]
  },
  {
   "cell_type": "code",
   "execution_count": 60,
   "id": "e24f9a90-0b04-45c0-892e-acb8b7b38d9b",
   "metadata": {},
   "outputs": [],
   "source": [
    "# Create a new django app"
   ]
  },
  {
   "cell_type": "markdown",
   "id": "e09c87d6-d353-4bc4-8ac0-8b4f53bff2fd",
   "metadata": {},
   "source": [
    "## python manage.py startapp cases"
   ]
  },
  {
   "cell_type": "code",
   "execution_count": 64,
   "id": "32fbcf49-e5c7-4320-bfe8-3477349da162",
   "metadata": {},
   "outputs": [],
   "source": [
    "# Once your command returns to the project directory, it indicates that the app has been created."
   ]
  },
  {
   "cell_type": "code",
   "execution_count": 65,
   "id": "76d8b896-e067-4c98-8470-fee1e211f9c8",
   "metadata": {},
   "outputs": [],
   "source": [
    "# Open Text-editor(PyCharm) , you will see a new directory cases is created\n",
    "# You have to register it in settings.py file, under INSTALLED_APPS so that the django project is aware of the app"
   ]
  },
  {
   "cell_type": "code",
   "execution_count": 66,
   "id": "59a8fed9-529a-43f3-a447-acdbe811a460",
   "metadata": {},
   "outputs": [],
   "source": [
    "#INSTALLED_APPS = [\n",
    "#    'django.contrib.admin',\n",
    "#    'django.contrib.auth',\n",
    "#    'django.contrib.contenttypes',\n",
    "#    'django.contrib.sessions',\n",
    "#    'django.contrib.messages',\n",
    "#    'django.contrib.staticfiles',\n",
    "#    'cases',      \n",
    "#]"
   ]
  },
  {
   "cell_type": "code",
   "execution_count": 67,
   "id": "ee68a866-de2d-475f-bddc-f254a2a96316",
   "metadata": {},
   "outputs": [],
   "source": [
    "# Create Django Models"
   ]
  },
  {
   "cell_type": "code",
   "execution_count": 68,
   "id": "49be64df-e8c3-435f-b194-b43b11d2cca2",
   "metadata": {},
   "outputs": [],
   "source": [
    "# Create models that will define new Tables for the database."
   ]
  },
  {
   "cell_type": "code",
   "execution_count": 69,
   "id": "af75d50f-47c4-4e21-ad5d-95a417c892de",
   "metadata": {},
   "outputs": [],
   "source": [
    "# A model is a class that represents a table or collection in a database."
   ]
  },
  {
   "cell_type": "code",
   "execution_count": 70,
   "id": "32e3f15f-2547-4bcb-9fb1-7d46866268c3",
   "metadata": {},
   "outputs": [],
   "source": [
    "# Models are defined inside the models.py file of a django app."
   ]
  },
  {
   "cell_type": "raw",
   "id": "058e2772-cc96-496e-8581-6d09acb75103",
   "metadata": {},
   "source": [
    "#                                                               # models.py\n",
    "# This line of code is a standard import statement used in django to import models module from django.db package.\n",
    "# from django.db import models\n",
    "# The models module contains the definition of the django Model class, which is the base class for creating database tables in django.\n",
    "# Models define the structure of the data that will be stored in the database.\n",
    "# create your model here.\n",
    "# When creating a new model class, you need to inherit from the models.Model classs.\n",
    "# This allows you to define the fields thet make up the Table in the database and also provides you with access to a number of useful methods\n",
    "# and attributes that allows you to interact with the databse.\n",
    "class Client(models.Model):\n",
    "    # Define the variables(fields) which will represent columns inside the database tables.\n",
    "    first_name = models.CharField(max_length=100)\n",
    "    last_name = models.CharField(max_length=100)\n",
    "    email = models.EmailField()\n",
    "    phone = models.CharField(max_length=15)\n",
    "    # The method called __str__() is called whenever an instance of the model is converted to a string. It displays the actual name of the objet in the model.\n",
    "    # By defining the __str__() method we can customize how instances of the model are displayed as strings.\n",
    "    # In this case, the method reurns a string that combines the first_name and the last_name attributes separated by a space to create a full name.\n",
    "# The f\"{self.first_name} {self.last_name}\" is an f-string which is used to format the values of the {self.first_name}{self.last_name} fields.\n",
    "def_str_(self): The self is a reference to the current instance of a Django class or model and it is used to access the attributes(variables) and\n",
    "# methods of that instance within the instance method.\n",
    "    "
   ]
  },
  {
   "cell_type": "code",
   "execution_count": null,
   "id": "f2d698d4-92d1-4a7c-bfa8-aeaf98b16168",
   "metadata": {},
   "outputs": [],
   "source": []
  },
  {
   "cell_type": "code",
   "execution_count": null,
   "id": "19be9913",
   "metadata": {},
   "outputs": [],
   "source": []
  },
  {
   "cell_type": "code",
   "execution_count": null,
   "id": "bc24cbc2",
   "metadata": {},
   "outputs": [],
   "source": []
  },
  {
   "cell_type": "code",
   "execution_count": null,
   "id": "b2308014",
   "metadata": {},
   "outputs": [],
   "source": []
  },
  {
   "cell_type": "code",
   "execution_count": null,
   "id": "a4035cc8",
   "metadata": {},
   "outputs": [],
   "source": []
  },
  {
   "cell_type": "code",
   "execution_count": null,
   "id": "bf84a916",
   "metadata": {},
   "outputs": [],
   "source": []
  },
  {
   "cell_type": "code",
   "execution_count": null,
   "id": "0748fa42",
   "metadata": {},
   "outputs": [],
   "source": []
  },
  {
   "cell_type": "code",
   "execution_count": null,
   "id": "4e30c400",
   "metadata": {},
   "outputs": [],
   "source": []
  },
  {
   "cell_type": "code",
   "execution_count": 1,
   "id": "03bbaa73",
   "metadata": {},
   "outputs": [],
   "source": [
    "# Creating a Django Forms Models:\n",
    "# In Django, a form is a Python class that encapsulates the fields and behaviour of a HTML form.\n",
    "# Django's form system is built on top of Python's built-in form module, and it provides a high-level API for handling form data and validation."
   ]
  },
  {
   "cell_type": "code",
   "execution_count": 2,
   "id": "c09f2314",
   "metadata": {},
   "outputs": [],
   "source": [
    "# Dajngo forms can be used to:\n",
    "# 1. Validate user input before processing it.\n",
    "# 2. Generate HTML for form display and submission.\n",
    "# 3. Render form fields with appropriate HTML input elements and labels.\n",
    "# 4. Handle different types of form data, including text, numbers, booleans, dates, and files.\n",
    "# 5. Customize form validation rules and error messages.\n",
    "# 6. Map form input data to Python objects or database models."
   ]
  },
  {
   "cell_type": "code",
   "execution_count": null,
   "id": "7cf5f14e",
   "metadata": {},
   "outputs": [],
   "source": []
  }
 ],
 "metadata": {
  "kernelspec": {
   "display_name": "Python 3 (ipykernel)",
   "language": "python",
   "name": "python3"
  },
  "language_info": {
   "codemirror_mode": {
    "name": "ipython",
    "version": 3
   },
   "file_extension": ".py",
   "mimetype": "text/x-python",
   "name": "python",
   "nbconvert_exporter": "python",
   "pygments_lexer": "ipython3",
   "version": "3.7.0"
  }
 },
 "nbformat": 4,
 "nbformat_minor": 5
}

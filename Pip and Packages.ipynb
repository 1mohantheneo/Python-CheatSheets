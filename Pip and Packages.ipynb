{
 "cells": [
  {
   "cell_type": "markdown",
   "id": "4eb94011-7b1d-4d4c-bc68-6d9c6ff13dbd",
   "metadata": {},
   "source": [
    "# Virtual Environments"
   ]
  },
  {
   "cell_type": "markdown",
   "id": "12f74789-acc1-4a0b-928e-f290ca2704c6",
   "metadata": {},
   "source": [
    "Pip => Pip is the preferred installer program.\n",
    "Starting with Python 3.4, it is included by default with the python binary installers(Python language installer)."
   ]
  },
  {
   "cell_type": "markdown",
   "id": "150f340b-0952-44db-b36c-5d133dd42fcb",
   "metadata": {},
   "source": [
    "Pip is the most popular tool for installing Python packages."
   ]
  },
  {
   "cell_type": "markdown",
   "id": "d65eb1dd-d3ee-4752-a655-9324bb99b21a",
   "metadata": {},
   "source": [
    "It provides the essential core features for finding, downloading and installing packages from PyPI and other Python package indexes and\n",
    "\n",
    "can be incorporated into a wide range of development workflow via its command line interface(CLI)."
   ]
  },
  {
   "cell_type": "markdown",
   "id": "97c7e8de-5692-426e-9175-7c96c0dcc862",
   "metadata": {},
   "source": [
    "Command to check whether pip is installed:\n",
    "## command prompt=> type pip=> enter "
   ]
  },
  {
   "cell_type": "markdown",
   "id": "7f7bac21-b1ce-40ed-a0f6-0d028d903606",
   "metadata": {},
   "source": [
    "Command for Upgrading pip\n",
    "## python -m pip install --upgrade pip"
   ]
  },
  {
   "cell_type": "markdown",
   "id": "97dd7b48-548f-49f1-8b23-3fe1f0f28155",
   "metadata": {},
   "source": [
    "## Pip package manager command"
   ]
  },
  {
   "cell_type": "markdown",
   "id": "ecb8f917-aefa-4d72-b1fa-dd378b832ebc",
   "metadata": {},
   "source": [
    "To install a package "
   ]
  },
  {
   "cell_type": "markdown",
   "id": "bc484c34-4e75-469b-8c79-505eaf938640",
   "metadata": {},
   "source": [
    "### pip install package_name"
   ]
  },
  {
   "cell_type": "markdown",
   "id": "aa531f9d-276a-43e0-a721-d8cbcf423f61",
   "metadata": {},
   "source": [
    "To update a package"
   ]
  },
  {
   "cell_type": "markdown",
   "id": "3dd907dd-e28f-4de3-970b-e52b7f6875aa",
   "metadata": {},
   "source": [
    "### pip install --upgrade package_name"
   ]
  },
  {
   "cell_type": "markdown",
   "id": "3d348e19-b5e3-4432-8181-939c3d5f1921",
   "metadata": {},
   "source": [
    "To update package manger"
   ]
  },
  {
   "cell_type": "markdown",
   "id": "b8e3fdc4-260c-46b4-9895-1f8e66dc33c5",
   "metadata": {},
   "source": [
    "### python -m pip install -U pip"
   ]
  },
  {
   "cell_type": "markdown",
   "id": "35fcfc37-497a-4aa2-98f5-ebcff75bbeb8",
   "metadata": {},
   "source": [
    "To uninstall a package"
   ]
  },
  {
   "cell_type": "markdown",
   "id": "1d4a3cfa-708e-492c-ba93-b4f69dce322a",
   "metadata": {},
   "source": [
    "### pip uninstall package_name"
   ]
  },
  {
   "cell_type": "markdown",
   "id": "f2872693-ae0a-4087-9c1a-394a456d3197",
   "metadata": {},
   "source": [
    "To create an environment"
   ]
  },
  {
   "cell_type": "code",
   "execution_count": null,
   "id": "8487b743-cfeb-4db4-8d1b-cc43d8ebb152",
   "metadata": {},
   "outputs": [],
   "source": []
  }
 ],
 "metadata": {
  "kernelspec": {
   "display_name": "Python 3 (ipykernel)",
   "language": "python",
   "name": "python3"
  },
  "language_info": {
   "codemirror_mode": {
    "name": "ipython",
    "version": 3
   },
   "file_extension": ".py",
   "mimetype": "text/x-python",
   "name": "python",
   "nbconvert_exporter": "python",
   "pygments_lexer": "ipython3",
   "version": "3.11.5"
  }
 },
 "nbformat": 4,
 "nbformat_minor": 5
}

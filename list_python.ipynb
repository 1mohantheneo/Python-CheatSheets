{
 "cells": [
  {
   "cell_type": "markdown",
   "id": "46d63894-10e9-4f0d-86f0-36ec2d9562e6",
   "metadata": {},
   "source": [
    "# List = A list is a collection of items in a particular order.\n"
   ]
  },
  {
   "cell_type": "markdown",
   "id": "9adf047e-23db-4ccd-b60c-4b48e5144bc6",
   "metadata": {},
   "source": [
    "## A list can include letters of the alphabet, the digit from 0-9, or the string all in one.\n"
   ]
  },
  {
   "cell_type": "markdown",
   "id": "f57b0f69-2ad4-4435-ac3f-848bc664fea",
   "metadata": {},
   "outputs": [],
   "source": [
    ## "a_list.+TAB = list name with . + TAB to show all related functions.\n"
   ]
  },
  {
   "cell_type": "code",
   "execution_count": 4,
   "id": "f57b0f69-2ad4-4435-ac3f-848bc66a4fea",
   "metadata": {},
   "outputs": [],
   "source": [
    "a_list = [\"My name is NK.\", 123456789, \"Python\"]"
   ]
  },
 



{
   "cell_type": "code",
   "execution_count": 8,
   "id": "439f5528-1f1f-42cf-b9f5-fafda0e4f222",
   "metadata": {},
   "outputs": [
    {
     "name": "stdout",
     "output_type": "stream",
     "text": [
      "['My name is NK.', 123456789, 'Python']\n"
     ]
    }
   ],
   "source": [
    "print(a_list)"
   ]
  },
  {
   "cell_type": "markdown",
   "id": "42568b3c-bb43-459a-b2d3-36dd84ca41ea",
   "metadata": {},
   "source": [
    "## A list starts with index 0."
   ]
  },
  {
   "cell_type": "code",
   "execution_count": 17,
   "id": "1515b1b5-7aa2-4ac6-a840-853e03ab3be3",
   "metadata": {},
   "outputs": [
    {
     "name": "stdout",
     "output_type": "stream",
     "text": [
      "My name is NK.\n"
     ]
    }
   ],
   "source": [
    "print(a_list[0])"
   ]
  },
  {
   "cell_type": "markdown",
   "id": "cf06a72f-aead-4d00-b7ff-0837d4d15100",
   "metadata": {},
   "source": [
    "## list can be appended."
   ]
  },
  {
   "cell_type": "code",
   "execution_count": 22,
   "id": "4d11639e-79f5-4c70-87fc-5faaf8fd3eb2",
   "metadata": {},
   "outputs": [],
   "source": [
    "a_list.append(\"add something\")"
   ]
  },
  {
   "cell_type": "code",
   "execution_count": 24,
   "id": "fb3d9d2a-9fb9-4e86-8755-84ca69a4e3fb",
   "metadata": {},
   "outputs": [
    {
     "name": "stdout",
     "output_type": "stream",
     "text": [
      "['My name is NK.', 123456789, 'Python', 'add something']\n"
     ]
    }
   ],
   "source": [
    "print(a_list)"
   ]
  },
  {
   "cell_type": "markdown",
   "id": "b463fae6-2d69-4c6e-a801-2513b991203b",
   "metadata": {},
   "source": [
    "## Elements in a list can be numbered or enemurated with for loop"
   ]
  },
  {
   "cell_type": "code",
   "execution_count": 50,
   "id": "3e663724-494b-48ec-b8dd-ef20149a2ae9",
   "metadata": {},
   "outputs": [
    {
     "name": "stdout",
     "output_type": "stream",
     "text": [
      "0 My name is NK.\n",
      "1 123456789\n",
      "2 Python\n",
      "3 add something\n"
     ]
    }
   ],
   "source": [
    "for i in range(len(a_list)):\n",
    "    print(i, a_list[i])\n"
   ]
  },
  {
   "cell_type": "code",
   "execution_count": null,
   "id": "6e8d3801-e8c3-4887-a0d6-c744aaebae1c",
   "metadata": {},
   "outputs": [],
   "source": []
  }
 ],
 "metadata": {
  "kernelspec": {
   "display_name": "Python 3 (ipykernel)",
   "language": "python",
   "name": "python3"
  },
  "language_info": {
   "codemirror_mode": {
    "name": "ipython",
    "version": 3
   },
   "file_extension": ".py",
   "mimetype": "text/x-python",
   "name": "python",
   "nbconvert_exporter": "python",
   "pygments_lexer": "ipython3",
   "version": "3.12.7"
  }
 },
 "nbformat": 4,
 "nbformat_minor": 5
}

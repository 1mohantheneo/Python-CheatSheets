{
 "cells": [
  {
   "cell_type": "markdown",
   "id": "d47abc1d-7aab-495a-aa93-a119b6292cdf",
   "metadata": {},
   "source": [
    "## Formula to return number of days between two dates:"
   ]
  },
  {
   "cell_type": "markdown",
   "id": "b8bd318c-cb25-4632-b7ff-c4e5a0fd791b",
   "metadata": {},
   "source": [
    "### =DAYS(End_date,Start_date)"
   ]
  },
  {
   "cell_type": "code",
   "execution_count": 1,
   "id": "71065931-902c-4b71-ac76-405c668078b1",
   "metadata": {},
   "outputs": [],
   "source": [
    "# Start_date column must be formatted to number.\n",
    "# End_date column must be formatted to number."
   ]
  },
  {
   "cell_type": "markdown",
   "id": "adee2f1e-8707-4002-b2d4-8d0d980087cc",
   "metadata": {},
   "source": [
    "## Formula to return number of days between today and a specified date:"
   ]
  },
  {
   "cell_type": "markdown",
   "id": "15b377ff-7c27-4932-8d7e-ce7b1122d247",
   "metadata": {},
   "source": [
    "### =DAYS(TODAY(),Start_date)"
   ]
  },
  {
   "cell_type": "markdown",
   "id": "81efd53f-1b56-4548-893f-2e415a4a61fd",
   "metadata": {},
   "source": [
    "## => &(Ampersand) operator use in Google Sheets:"
   ]
  },
  {
   "cell_type": "markdown",
   "id": "8c44354f-9d49-497f-8654-38f5e9c34c84",
   "metadata": {},
   "source": [
    "### &(Ampersand) operator is just a synonym for the CONCAT() or CONCATENATE() function. When you specify an Ampersand operator in an expression,\n",
    "### Appsheet converts that portion of the expression into a CONCATENATE() function. \n",
    "### Using &(Ampersand) operator is simply a compact way of specifying the CONCATENATE() function."
   ]
  },
  {
   "cell_type": "markdown",
   "id": "1bc2ea6b-d973-4d2a-b4b8-f022598d105a",
   "metadata": {},
   "source": [
    "## =CONCAT() function use in Google Sheets:"
   ]
  },
  {
   "cell_type": "markdown",
   "id": "1a56227e-2ae9-4145-a7c3-e2403dc3a9fe",
   "metadata": {},
   "source": [
    "### CONCAT() function is similar to \"&\" operator and allows you to combine two values in cells.\n",
    "### However, you can''t include any space or other signs, marks, or values between them as you can in the CONCATENATE() function"
   ]
  },
  {
   "cell_type": "markdown",
   "id": "6d537cb9-635f-4e61-a065-b2f947003f08",
   "metadata": {},
   "source": [
    "## =CONCATENATE() function use in Google Sheets:"
   ]
  },
  {
   "cell_type": "markdown",
   "id": "d04f244c-c187-47a6-96fd-a2ffa554fa10",
   "metadata": {},
   "source": [
    "### CONCATENATE() function can combine multiple text strings into one string.\n",
    "### CONCATENATE() allows users to pull data from multiple cells and display it in a single string.\n",
    "### Syntax:\n",
    "### CONCATENATE(string1, [string2, ...])"
   ]
  },
  {
   "cell_type": "markdown",
   "id": "ef5a2daa-ea87-4a7c-8635-1853fde76da3",
   "metadata": {},
   "source": [
    "# GOOGLEFINANCE FUNCTIONS"
   ]
  },
  {
   "cell_type": "code",
   "execution_count": 2,
   "id": "59c78174-6f39-4c98-882a-d162c9f24dfc",
   "metadata": {},
   "outputs": [],
   "source": [
    "# GOOGLEFINANCE fetches current or historical securities information from GOOGLE FINANCE."
   ]
  },
  {
   "cell_type": "code",
   "execution_count": 1,
   "id": "021ace1a",
   "metadata": {},
   "outputs": [],
   "source": [
    "# Syntax :"
   ]
  },
  {
   "cell_type": "markdown",
   "id": "9542a7ac",
   "metadata": {},
   "source": [
    "# =GOOGLEFINANCE(ticker, [attribute], [start_date], [end_date], [interval])"
   ]
  },
  {
   "cell_type": "code",
   "execution_count": 3,
   "id": "f5444303-e971-4cd6-bf47-ce5863f4977a",
   "metadata": {},
   "outputs": [],
   "source": [
    "## Sample Usage"
   ]
  },
  {
   "cell_type": "code",
   "execution_count": 4,
   "id": "4be75c46-d493-44e7-ab88-d38f64ee0321",
   "metadata": {},
   "outputs": [],
   "source": [
    "## GOOGLEFINANCE(\"NSE:\"Stock_Name or $column_number, \"price\")"
   ]
  },
  {
   "cell_type": "markdown",
   "id": "2f07d753",
   "metadata": {},
   "source": [
    "## .ticker - The ticker symbol for the security to consider."
   ]
  },
  {
   "cell_type": "code",
   "execution_count": 2,
   "id": "6e77727b-7833-47a7-907b-5d269d277437",
   "metadata": {},
   "outputs": [],
   "source": [
    "### It's mandatory to use both the exchange symbol and ticker symbol for accurate results and\n",
    "### to avoid discrepancies. For example, use \"NSE:RELIANCE\" instead of \"RELIANCE\".\n",
    "### CONCAT(value_1, value_2) formula is used between =GOOGLEFINANCE((CONCAT\"NSE:\",A2), \"price\")) to fetch value from a cell.\n",
    "### &(Ampersand) sign is also used concatenate the values between two cells. eg: =GOOGLEFINANCE(\"NSE:\"&A2, \"price\")"
   ]
  },
  {
   "cell_type": "markdown",
   "id": "e781871f",
   "metadata": {},
   "source": [
    "## .attribute - [OPTIONAL - \"price\" by default] - The attribute to fetch about ticker from Google Finance and is required if a date is specified."
   ]
  },
  {
   "cell_type": "markdown",
   "id": "e71d82d9",
   "metadata": {},
   "source": [
    "### .attribute is one of the following for real-time data:"
   ]
  },
  {
   "cell_type": "code",
   "execution_count": 4,
   "id": "3da0fc92",
   "metadata": {},
   "outputs": [],
   "source": [
    "#### .\"price\" - Real-time price quote, delayed by up to 20 minutes."
   ]
  },
  {
   "cell_type": "code",
   "execution_count": 12,
   "id": "c2d8671a",
   "metadata": {},
   "outputs": [],
   "source": [
    "#### .\"priceopen\" - The price as of the market open."
   ]
  },
  {
   "cell_type": "code",
   "execution_count": 6,
   "id": "017d9311",
   "metadata": {},
   "outputs": [],
   "source": [
    "#### .\"high\" - The current day's high price."
   ]
  },
  {
   "cell_type": "code",
   "execution_count": 7,
   "id": "ad27dd54",
   "metadata": {},
   "outputs": [],
   "source": [
    "#### .\"low\" - The current day's low price."
   ]
  },
  {
   "cell_type": "code",
   "execution_count": 8,
   "id": "fdd887e5",
   "metadata": {},
   "outputs": [],
   "source": [
    "#### .\"volume\" - The current day's trading volume."
   ]
  },
  {
   "cell_type": "code",
   "execution_count": 9,
   "id": "50357b81",
   "metadata": {},
   "outputs": [],
   "source": [
    "#### .\"marketcap\" - The market capitilization of the stock."
   ]
  },
  {
   "cell_type": "code",
   "execution_count": 13,
   "id": "907c5754",
   "metadata": {},
   "outputs": [],
   "source": [
    "#### .\"tradetime\" - The time of the last trade."
   ]
  },
  {
   "cell_type": "code",
   "execution_count": 11,
   "id": "ca4e7aad",
   "metadata": {},
   "outputs": [],
   "source": [
    "#### .\"datadelay\" - How far delayed the real-time data is."
   ]
  },
  {
   "cell_type": "code",
   "execution_count": 14,
   "id": "ca79d95c",
   "metadata": {},
   "outputs": [],
   "source": [
    "#### .\"volumeavg\" - The average daily trading volume."
   ]
  },
  {
   "cell_type": "code",
   "execution_count": null,
   "id": "cfc2256b",
   "metadata": {},
   "outputs": [],
   "source": [
    "### .\"name\" - The full name of the stock."
   ]
  },
  {
   "cell_type": "code",
   "execution_count": 16,
   "id": "6c7c9894",
   "metadata": {},
   "outputs": [],
   "source": [
    "#### .\"pe\" - The price/earnings ratio."
   ]
  },
  {
   "cell_type": "code",
   "execution_count": 17,
   "id": "2b537581",
   "metadata": {},
   "outputs": [],
   "source": [
    "#### .\"eps\" - The earnings per share."
   ]
  },
  {
   "cell_type": "code",
   "execution_count": 18,
   "id": "4f24c543",
   "metadata": {},
   "outputs": [],
   "source": [
    "#### .\"high52\" - The 52-week high price."
   ]
  },
  {
   "cell_type": "code",
   "execution_count": 19,
   "id": "6cc1b029",
   "metadata": {},
   "outputs": [],
   "source": [
    "#### .\"low52\" - The 52-week low price."
   ]
  },
  {
   "cell_type": "code",
   "execution_count": 21,
   "id": "5c331d80",
   "metadata": {},
   "outputs": [],
   "source": [
    "#### .\"change\" - The price change since the previous trading day's close."
   ]
  },
  {
   "cell_type": "code",
   "execution_count": 22,
   "id": "c594f92d",
   "metadata": {},
   "outputs": [],
   "source": [
    "#### .\"beta\" - The beta value."
   ]
  },
  {
   "cell_type": "code",
   "execution_count": 23,
   "id": "df9ee4c7",
   "metadata": {},
   "outputs": [],
   "source": [
    "#### .\"chagepct\" - The percentage change in price since the previous trading day's close."
   ]
  },
  {
   "cell_type": "code",
   "execution_count": 24,
   "id": "c457bf61",
   "metadata": {},
   "outputs": [],
   "source": [
    "#### .\"closeyest\" - The previous day's closing price."
   ]
  },
  {
   "cell_type": "code",
   "execution_count": 25,
   "id": "7af1fcb5",
   "metadata": {},
   "outputs": [],
   "source": [
    "#### .\"shares\" - The number of outstanding shares."
   ]
  },
  {
   "cell_type": "code",
   "execution_count": 26,
   "id": "2745c3e8",
   "metadata": {},
   "outputs": [],
   "source": [
    "#### .\"currency\" - The currency in which the security is priced. Currencies don't have trading windows, so open, low , high, and volume won't return for this argument."
   ]
  },
  {
   "cell_type": "markdown",
   "id": "f4f476ce",
   "metadata": {},
   "source": [
    "### .attribute is one of the following for historical data:"
   ]
  },
  {
   "cell_type": "code",
   "execution_count": 27,
   "id": "0ede1ef3",
   "metadata": {},
   "outputs": [],
   "source": [
    "#### .\"open\" - The opening price for the specified date(s)."
   ]
  },
  {
   "cell_type": "code",
   "execution_count": 28,
   "id": "4169e55f",
   "metadata": {},
   "outputs": [],
   "source": [
    "#### .\"close\" - The closing price for the specified date(s)."
   ]
  },
  {
   "cell_type": "code",
   "execution_count": 29,
   "id": "71ec2270",
   "metadata": {},
   "outputs": [],
   "source": [
    "#### .\"high\" - The high price for the specified date(s)."
   ]
  },
  {
   "cell_type": "code",
   "execution_count": 30,
   "id": "738a489e",
   "metadata": {},
   "outputs": [],
   "source": [
    "#### .\"low\" - The low price for the specified date(s)."
   ]
  },
  {
   "cell_type": "code",
   "execution_count": 31,
   "id": "56bf35a7",
   "metadata": {},
   "outputs": [],
   "source": [
    "#### .\"volume\" - The volume for the specified date(s)."
   ]
  },
  {
   "cell_type": "code",
   "execution_count": 32,
   "id": "af85d858",
   "metadata": {},
   "outputs": [],
   "source": [
    "#### .\"all\" - All of the above."
   ]
  },
  {
   "cell_type": "markdown",
   "id": "ebcec852",
   "metadata": {},
   "source": [
    "### .start_date - [OPTIONAL] - The start date when fetching historical data."
   ]
  },
  {
   "cell_type": "code",
   "execution_count": 33,
   "id": "7a7b7438",
   "metadata": {},
   "outputs": [],
   "source": [
    "#### .If start_date is specified but end_date|num_days is not, only the single day's data is returned."
   ]
  },
  {
   "cell_type": "markdown",
   "id": "5785993c",
   "metadata": {},
   "source": [
    "### .end_date|num_days - [OPTIONAL] - The end date when fetching historical data, or the number of days from start_date for which to return data."
   ]
  },
  {
   "cell_type": "markdown",
   "id": "be2df8db",
   "metadata": {},
   "source": [
    "### .interval - [OPTIONAL] - The frquency of returned data; either \"DAILY\" or \"WEEKLY\"."
   ]
  },
  {
   "cell_type": "code",
   "execution_count": 35,
   "id": "ebc8afdc",
   "metadata": {},
   "outputs": [],
   "source": [
    "#### interval can alternatively be specified as 1 or 7. Other numeric values are disallowed."
   ]
  },
  {
   "cell_type": "markdown",
   "id": "db66e146",
   "metadata": {},
   "source": [
    "## Imp. Notes:"
   ]
  },
  {
   "cell_type": "code",
   "execution_count": 36,
   "id": "edd46432",
   "metadata": {},
   "outputs": [],
   "source": [
    "### All parameters must be enclosed in quotation marks or be references to cells containing text.\n",
    "### IMPORTANT: A possible exception is when \"interval\" is specified as a number and when end_date|num_days is specified as a number of days."
   ]
  },
  {
   "cell_type": "markdown",
   "id": "ca7ad7a6",
   "metadata": {},
   "source": [
    "## SPARKLINE:"
   ]
  },
  {
   "cell_type": "code",
   "execution_count": 37,
   "id": "1020a2c7",
   "metadata": {},
   "outputs": [],
   "source": [
    "# Creates a miniature chart contained within a single cell."
   ]
  },
  {
   "cell_type": "code",
   "execution_count": 39,
   "id": "9d7e1720",
   "metadata": {},
   "outputs": [],
   "source": [
    "## Sample usage:"
   ]
  },
  {
   "cell_type": "code",
   "execution_count": null,
   "id": "768f142f",
   "metadata": {},
   "outputs": [],
   "source": [
    "## SPARKLINE(A2:E2,{\"charttype, \"bar\"; \"max\",40})\n",
    "## SPARKLINE(A1:A5,{\"charttype\", \"column\"; \"axis\", true; \"axiscolor\",\"red\")"
   ]
  },
  {
   "cell_type": "markdown",
   "id": "566395f9",
   "metadata": {},
   "source": [
    "# Syntax :"
   ]
  },
  {
   "cell_type": "markdown",
   "id": "f5c47dcb",
   "metadata": {},
   "source": [
    "### SPARKLINE(data, [options])"
   ]
  },
  {
   "cell_type": "code",
   "execution_count": 38,
   "id": "158a6055",
   "metadata": {},
   "outputs": [],
   "source": [
    "# data - The range or array containing the data to plot."
   ]
  },
  {
   "cell_type": "code",
   "execution_count": 40,
   "id": "14ead1b5",
   "metadata": {},
   "outputs": [],
   "source": [
    "# options - [OPTIONAL] - A range or array of optional settings and associated values used to customize the chart.\n",
    "  # If referencing a range , options should be two cells wide where the first cell is the option and the second cell is\n",
    "   # the value that option is set to. "
   ]
  },
  {
   "cell_type": "code",
   "execution_count": 41,
   "id": "3b793824",
   "metadata": {},
   "outputs": [],
   "source": [
    "## The \"charttype\" option defines the type of chart to plot , which includes:\n",
    " ## \"line\" for a line graph(the default)\n",
    " ## \"bar\" for a stacked bar chart\n",
    " ## \"column\" for a column chart\n",
    " ## \"winloss\" for a special type of column chart that plots 2 possible outcomes: positive and negative(like a coin toss).   "
   ]
  },
  {
   "cell_type": "markdown",
   "id": "e8db7fc9",
   "metadata": {},
   "source": [
    "### For line graphs:"
   ]
  },
  {
   "cell_type": "code",
   "execution_count": 43,
   "id": "c678bc6d",
   "metadata": {},
   "outputs": [],
   "source": [
    "## \"xmin\" sets the minimum value along the horizontal axis.\n",
    "## \"xmax\" sets the maximum value along the horizontal axis.\n",
    "## \"ymin\" sets the minimum value along the vertical axis.\n",
    "## \"ymax\" sets the maximum value along the vertical axis.\n",
    "## \"color\" sets the color of the line.\n",
    "## \"empty\" sets how to treat empty cells. Possible corresponding values include: \"zero\" or \"ignore\".\n",
    "## \"nan\" sets how to treat cells with non-numeric data. Options are: \"convert\" and \"ignore\".\n",
    "## \"rtl\" determines whether or not the chart is rendered right to left. Options are true or false.\n",
    "## \"linewidth\" determines how thick the line will be in the chart. A higher number means a thicker line."
   ]
  },
  {
   "cell_type": "markdown",
   "id": "b3004848",
   "metadata": {},
   "source": [
    "### For column and winloss sparklines:"
   ]
  },
  {
   "cell_type": "code",
   "execution_count": 44,
   "id": "c8e0a833",
   "metadata": {},
   "outputs": [],
   "source": [
    "# \"color\" sets the color of chart columns.\n",
    "# \"lowcolor\" sets the color for the lowest value in the chart\n",
    "# \"highcolor\" sets the color for the highest value in the chart\n",
    "# \"firstcolor\" sets the color of the first column\n",
    "# 'lastcolor' sets the color of the last column\n",
    "# \"negcolor\" sets the color of all negative columns\n",
    "# \"empty\" sets how to treat empty cells. Possible corresponding values include: \"zero\" or \"ignore\".\n",
    "# \"nan\" sets how to treat cells with non-numeric data. Options are: \"convert\" and \"ignore\".\n",
    "# \"axis\" decides if an axis needs to be drawn(true/false)\n",
    "# \"axiscolor\" sets the color of the axis (if applicable)\n",
    "# \"ymin\" sets the custom minimum data value that should be used for scaling the height of columns(not applicable for win/loss)\n",
    "# \"ymax\" sets the custom maximum data value that should be used for scaling the height of columns(not applicable for win/loss)\n",
    "# \"rtl\" determines whether or not the chart is rendered right to left. Options are true or false."
   ]
  },
  {
   "cell_type": "markdown",
   "id": "996e2737",
   "metadata": {},
   "source": [
    "### For bar charts:"
   ]
  },
  {
   "cell_type": "code",
   "execution_count": 45,
   "id": "4099300a",
   "metadata": {},
   "outputs": [],
   "source": [
    "# \"max\" sets the maximum value along the horizontal axis.\n",
    "# \"color1\" sets the first color used for bars in the chart.\n",
    "# \"color2\" sets the second color used for bars in the chart.\n",
    "# \"empty\" sets how to treat empty cells. Possible corresponding values include: \"zero\" or \"ignore\".\n",
    "# \"nan\" sets how to treat cells with non-numeric data. Options are: \"converts\" and \"ignore\".\n",
    "# \"rtl\" determines whether or not the chart is rendered right to left. Options are true or false."
   ]
  },
  {
   "cell_type": "markdown",
   "id": "10941ca1",
   "metadata": {},
   "source": [
    "# Notes: Colors can be written using their names(e.g, \"green\", \"red\")"
   ]
  },
  {
   "cell_type": "markdown",
   "id": "1ea06f81",
   "metadata": {},
   "source": [
    "### =SPARKLINE(INDEX(GOOGLEFINANCE(\"NSE:\"&A74,\"price\",workday(today(),-250),today()),,2),{\"charttype\", \"column\";\"color\",\"grey\";\"lowcolor\",\"red\";\"highcolor\",\"green\"})"
   ]
  },
  {
   "cell_type": "markdown",
   "id": "29c42163",
   "metadata": {},
   "source": [
    "## IF function"
   ]
  },
  {
   "cell_type": "code",
   "execution_count": 54,
   "id": "18fcf3f5",
   "metadata": {},
   "outputs": [],
   "source": [
    "# Returns one value if a logical expression is\"TRUE\" and another if it is \"FALSE\"."
   ]
  },
  {
   "cell_type": "code",
   "execution_count": null,
   "id": "5f45b76e",
   "metadata": {},
   "outputs": [],
   "source": [
    "# Sample Usage:\n",
    "# IF(A2 = \"foo\", \"A2 is foo\")\n",
    "# IF(A2, \"A2 was true\", \"A2 was false\")\n",
    "# IF(TRUE,4,5)"
   ]
  },
  {
   "cell_type": "code",
   "execution_count": 55,
   "id": "fb539ea5",
   "metadata": {},
   "outputs": [],
   "source": [
    "# Syntax:\n",
    "# IF(logical_expression, value_if_true, value_if_false)\n",
    "### logical_expression - An expression or refernce to a cell containing an expression that represents some logical value, i.e. TRUE or FALSE.\n",
    "### value_if_true - The value the function returns if logical_expression is TRUE.\n",
    "### value_if_false - [OPTIONAL - blank by default] - The value the function returns if logical_expression is FALSE."
   ]
  },
  {
   "cell_type": "code",
   "execution_count": null,
   "id": "8aebf8bb",
   "metadata": {},
   "outputs": [],
   "source": [
    "# Notes:\n",
    "# Ensure that value_if_true and value_if_false are provided to the function in the correct order - this is the single most \n",
    "# common source of problems with IF."
   ]
  },
  {
   "cell_type": "code",
   "execution_count": null,
   "id": "7a9980ed",
   "metadata": {},
   "outputs": [],
   "source": []
  },
  {
   "cell_type": "code",
   "execution_count": null,
   "id": "58faa451",
   "metadata": {},
   "outputs": [],
   "source": []
  },
  {
   "cell_type": "markdown",
   "id": "9590df7c",
   "metadata": {},
   "source": [
    "## ISBLANK"
   ]
  },
  {
   "cell_type": "code",
   "execution_count": 46,
   "id": "56cc11e3",
   "metadata": {},
   "outputs": [],
   "source": [
    "# Checks whether the referenced cell is empty."
   ]
  },
  {
   "cell_type": "code",
   "execution_count": 47,
   "id": "f7d78935",
   "metadata": {},
   "outputs": [],
   "source": [
    "#Sample Usage\n",
    "# IF(ISBLANK(B1),,A1/B1)"
   ]
  },
  {
   "cell_type": "code",
   "execution_count": 48,
   "id": "efe4de70",
   "metadata": {},
   "outputs": [],
   "source": [
    "# Syntax\n",
    "# ISBLANK(value)\n",
    "# value - Reference to the cell that will be checked for emptiness.\n",
    "## ISBLANK returns TRUE if value is empty or a reference to an empty cell, and FALSE if it contains data or a reference to data."
   ]
  },
  {
   "cell_type": "code",
   "execution_count": 49,
   "id": "0b4b1f12",
   "metadata": {},
   "outputs": [],
   "source": [
    "# Notes:\n",
    "## ISBLANK is most often used in conjuction with IF in conditional statements.\n",
    "## ISBLANK returns FALSE if the referenced cell has any content, including spaces, the empty string(\"\"), and hidden characters."
   ]
  },
  {
   "cell_type": "code",
   "execution_count": 50,
   "id": "f2b89f26",
   "metadata": {},
   "outputs": [],
   "source": [
    "# eg: =if(IsBlank(A70),\"\",GOOGLEFINANCE(\"NSE:\"&A70,\"price\"))\n",
    "# It returns empty space if the specified cell is blank, else fills with the price of stock."
   ]
  },
  {
   "cell_type": "markdown",
   "id": "65814470",
   "metadata": {},
   "source": [
    "## ISERROR"
   ]
  },
  {
   "cell_type": "code",
   "execution_count": 51,
   "id": "913799cf",
   "metadata": {},
   "outputs": [],
   "source": [
    "# Checks whether a value is an error."
   ]
  },
  {
   "cell_type": "code",
   "execution_count": 52,
   "id": "f0e2b9da",
   "metadata": {},
   "outputs": [],
   "source": [
    "# Sample Usage:\n",
    "# ISERROR(A2)\n",
    "# ISERROR(A1/A2)\n",
    "# IF(ISERROR(VLOOKUP(B1, A1:A100, 1, FALSE)), \"Result not found\", VLOOKUP(B1, A1:A100, 1,FALSE))"
   ]
  },
  {
   "cell_type": "code",
   "execution_count": 53,
   "id": "cf6cb5f3",
   "metadata": {},
   "outputs": [],
   "source": [
    "# Syntax\n",
    "# ISERROR(value)\n",
    "## value - The value to be verified as an error type.\n",
    "## ISERROR returns TRUE if value is any error, including #DIV/0!, #N/A, #NAME?, #NULL!, #NUM!, #VALUE!, and #REF!."
   ]
  },
  {
   "cell_type": "code",
   "execution_count": null,
   "id": "484c6365",
   "metadata": {},
   "outputs": [],
   "source": [
    "# Notes:\n",
    "## ISERROR is most often used in conjuction with IF in conditional statements.\n",
    "## ISERROR returns TRUE on any error, unlike ISERR, which returns TRUE on all errors except for #N/A."
   ]
  },
  {
   "cell_type": "markdown",
   "id": "75a31ec7",
   "metadata": {},
   "source": [
    "## IFERROR"
   ]
  },
  {
   "cell_type": "code",
   "execution_count": null,
   "id": "438316e9",
   "metadata": {},
   "outputs": [],
   "source": [
    "# Returns the first argument if it is not an error value, otherwise returns the second argument if present, or \n",
    "# a blank if the second argument is absent."
   ]
  },
  {
   "cell_type": "code",
   "execution_count": null,
   "id": "97d8e581",
   "metadata": {},
   "outputs": [],
   "source": [
    "# Sample Usage:\n",
    "# IFERROR(A1,\"Error in cell A1\")\n",
    "# IFERROR(A2)"
   ]
  },
  {
   "cell_type": "code",
   "execution_count": 56,
   "id": "34611f2e",
   "metadata": {},
   "outputs": [],
   "source": [
    "# General Usage:\n",
    "# Returns a blank if test is an error and value is null; returns the value if test is an error and value is not null;\n",
    "# returns the test if it is not an error.\n",
    "# Result              Formula\n",
    "# Division by zero    = IFERROR(1/0,\"Division by zero\")\n",
    "#                     = IFERROR(#N/A,)\n",
    "# Unknown range name  = IFERROR(#NAME?, \"Unknown range name\")"
   ]
  },
  {
   "cell_type": "code",
   "execution_count": 57,
   "id": "2a700b62",
   "metadata": {},
   "outputs": [],
   "source": [
    "# Unit Price:\n",
    "# Returns the value \"0\" when calculating the unit price where Quantity is null."
   ]
  },
  {
   "cell_type": "code",
   "execution_count": 58,
   "id": "e8a8ede1",
   "metadata": {},
   "outputs": [],
   "source": [
    "# Syntax:\n",
    "# IFERROR(value, [value_if_error])\n",
    "## value - The value to return if value itself is not an error.\n",
    "## value_if_error - [OPTIONAL - blank by default] - The value the function reurns if value is an error."
   ]
  },
  {
   "cell_type": "code",
   "execution_count": null,
   "id": "0af4c383",
   "metadata": {},
   "outputs": [],
   "source": [
    "# Notes:\n",
    "# IFERROR(exp1,exp2) is logically equivalent to IF(NOT(ISERROR(exp1)),exp1,exp2). \n",
    "# Ensure that this is the desired behaviour."
   ]
  },
  {
   "cell_type": "code",
   "execution_count": null,
   "id": "388098db",
   "metadata": {},
   "outputs": [],
   "source": []
  }
 ],
 "metadata": {
  "kernelspec": {
   "display_name": "Python 3 (ipykernel)",
   "language": "python",
   "name": "python3"
  },
  "language_info": {
   "codemirror_mode": {
    "name": "ipython",
    "version": 3
   },
   "file_extension": ".py",
   "mimetype": "text/x-python",
   "name": "python",
   "nbconvert_exporter": "python",
   "pygments_lexer": "ipython3",
   "version": "3.7.0"
  }
 },
 "nbformat": 4,
 "nbformat_minor": 5
}

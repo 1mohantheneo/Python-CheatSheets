{
 "cells": [
  {
   "cell_type": "markdown",
   "id": "60e69e12-4bb8-4d92-aeb1-8f14479960a0",
   "metadata": {},
   "source": [
    "# Anaconda"
   ]
  },
  {
   "cell_type": "markdown",
   "id": "ef426f94-2ba5-4dc7-9b01-d0b7784b24f2",
   "metadata": {},
   "source": [
    "#1. Anaconda is a distribution of the Python and R Programming languages for scientific computing(data science, machine learning applications,\n",
    "large-scale data processing, predictive analytics, etc.), that aims to simplify package mangement and deployment."
   ]
  },
  {
   "cell_type": "markdown",
   "id": "44b655d7-8469-4f74-b9e0-bc5d5682db2b",
   "metadata": {},
   "source": [
    "The distribution includes data-science packeges sutable for Windows, Linux and MacOS."
   ]
  },
  {
   "cell_type": "markdown",
   "id": "a0f01790-f676-46d7-9e38-246faf4e1b89",
   "metadata": {},
   "source": [
    "It is developed and maintained by Anaconda Inc., which was founded by Peter Wang and Travis Oliphant in 2012."
   ]
  },
  {
   "cell_type": "markdown",
   "id": "7d659119-fe8a-4bca-8e00-2255a033fc2f",
   "metadata": {},
   "source": [
    "Package versions in Anaconda are managed by the package management system conda."
   ]
  },
  {
   "cell_type": "markdown",
   "id": "e6b6343f-e025-4379-a9e9-da983c231bc6",
   "metadata": {},
   "source": [
    "## Overview"
   ]
  },
  {
   "cell_type": "markdown",
   "id": "e1d4c45c-818c-4abd-87a6-3da7dd8fed79",
   "metadata": {},
   "source": [
    "Anaconda distribution comes with over 250 packages automatically installed, and over 7500 additional open-source packages can be installed from PyPI\n",
    "as well as conda package and virtual environment manager."
   ]
  },
  {
   "cell_type": "markdown",
   "id": "0c8cf44e-a1ab-4a88-9608-a2b8eb4bd70e",
   "metadata": {},
   "source": [
    "## Conda"
   ]
  },
  {
   "cell_type": "markdown",
   "id": "d88d477e-34cb-48a5-add6-e54610f4116a",
   "metadata": {},
   "source": [
    "Conda is a powerful package manager and environment manager that you use with command line commands at the Anaconda prompt for windows,\n",
    "or in a terminal window for macOs or Linux.                                                                                                             "
   ]
  },
  {
   "cell_type": "markdown",
   "id": "7d68e9bc-49b6-4c1f-a9df-83d9d0ba6e6d",
   "metadata": {},
   "source": [
    "## Starting conda"
   ]
  },
  {
   "cell_type": "markdown",
   "id": "88651ded-57f8-4f1a-a85c-23634c50b96a",
   "metadata": {},
   "source": [
    "Windows > Start Menu > search for and open \"Anaconda Prompt.\""
   ]
  },
  {
   "cell_type": "markdown",
   "id": "e1881145-a23a-42e5-b735-2b1de4c38304",
   "metadata": {},
   "source": [
    "## Managing conda"
   ]
  },
  {
   "cell_type": "markdown",
   "id": "eed2807f-6e12-481e-bc40-24063327a6b6",
   "metadata": {},
   "source": [
    "Verify that conda is installed and running on your system by typing:\n",
    "\n",
    "### conda --version                         \n",
    "(conda displays the number of the version that you have installed.)\n"
   ]
  },
  {
   "cell_type": "markdown",
   "id": "e2676dd2-2a14-4ff6-bb4d-e13cda66e1ce",
   "metadata": {},
   "source": [
    "Update conda to the current version. Type the following :\n",
    "### conda update conda"
   ]
  },
  {
   "cell_type": "markdown",
   "id": "da24208e-5937-4c45-8182-96f68cd1508c",
   "metadata": {},
   "source": [
    "conda compares the versions and then displays what is available to install.\n",
    "If a newer version of conda is available, type y to update:\n",
    "### Proceed([y]/n)? y"
   ]
  },
  {
   "cell_type": "markdown",
   "id": "ecb31b63-d215-4a75-a143-efc5d8cb3fc0",
   "metadata": {},
   "source": [
    "## Managing environments"
   ]
  },
  {
   "cell_type": "markdown",
   "id": "bae355c4-608f-425a-a34b-31ae674c5010",
   "metadata": {},
   "source": [
    "Conda allows you to create separate environments containing files, packages, and their dependencies that will not interact with other environments.\n",
    "When you begin using conda, you already have a default environment named base. \n",
    "You don't want to put programs into your base environment, though.\n",
    "Create separate environments to keep your programs isolated from each other."
   ]
  },
  {
   "cell_type": "markdown",
   "id": "740d88a7-54e4-4d9e-95bb-58b8fd0a8f08",
   "metadata": {},
   "source": [
    "1. Create a new environment and install a package in it."
   ]
  },
  {
   "cell_type": "markdown",
   "id": "5bd9d174-6206-42ed-9c41-f78b8d483e51",
   "metadata": {},
   "source": [
    "We will create the environment named eg. snowflakes, at the Anaconda Prompt by typing the following :\n",
    "### conda create ---name snowflakes"
   ]
  },
  {
   "cell_type": "markdown",
   "id": "983dc601-fdaa-4f4f-a341-a560c2e2a80a",
   "metadata": {},
   "source": [
    "### Proceed([y]/n)? y"
   ]
  },
  {
   "cell_type": "markdown",
   "id": "f4bf5515-e6b7-4009-ac8c-1683bcb703dd",
   "metadata": {},
   "source": [
    "Type \"y\" and press enter to proceed."
   ]
  },
  {
   "cell_type": "markdown",
   "id": "6e06f390-c8e0-4d77-95c6-e39f18e49869",
   "metadata": {},
   "source": [
    "To use, or \"activate\" the new environment, type the following:\n",
    "Windows:\n",
    "### conda activate snowflakes"
   ]
  },
  {
   "cell_type": "markdown",
   "id": "4f9a2f43-5c68-4db9-b32f-a575c51cea7d",
   "metadata": {},
   "source": [
    "To \"deactivate\" a running environment, type the following:\n",
    "\n",
    "### conda deactivate"
   ]
  },
  {
   "cell_type": "code",
   "execution_count": null,
   "id": "d85c9c86-c1fd-44a8-ad46-b2e3ffcb23c1",
   "metadata": {},
   "outputs": [],
   "source": []
  },
  {
   "cell_type": "markdown",
   "id": "06c257d3-364b-4cfb-97e2-15dce8ae6df4",
   "metadata": {},
   "source": [
    "To see a list of all your envirom=nments, type:\n",
    "### conda info --envs"
   ]
  },
  {
   "cell_type": "markdown",
   "id": "7ef84437-6215-48ce-a61a-581fcb31dd2b",
   "metadata": {},
   "source": [
    "A list of environments appears, similar to the following:\n",
    "\n",
    "conda environments:\n",
    "\n",
    "###  base          /home/username/Anaconda3\n",
    "    \n",
    "###    snowflakes   */home username/Anaconda3/envs/snowflakes"
   ]
  },
  {
   "cell_type": "code",
   "execution_count": null,
   "id": "feeadec9-7a8f-4628-9137-74a0ecdd0eef",
   "metadata": {},
   "outputs": [],
   "source": [
    "The active environment is the one with an astreisk(*)."
   ]
  },
  {
   "cell_type": "markdown",
   "id": "1531c471",
   "metadata": {},
   "source": [
    "## conda"
   ]
  },
  {
   "cell_type": "code",
   "execution_count": null,
   "id": "ab92b96f",
   "metadata": {},
   "outputs": [],
   "source": []
  }
 ],
 "metadata": {
  "kernelspec": {
   "display_name": "Python 3 (ipykernel)",
   "language": "python",
   "name": "python3"
  },
  "language_info": {
   "codemirror_mode": {
    "name": "ipython",
    "version": 3
   },
   "file_extension": ".py",
   "mimetype": "text/x-python",
   "name": "python",
   "nbconvert_exporter": "python",
   "pygments_lexer": "ipython3",
   "version": "3.11.5"
  }
 },
 "nbformat": 4,
 "nbformat_minor": 5
}

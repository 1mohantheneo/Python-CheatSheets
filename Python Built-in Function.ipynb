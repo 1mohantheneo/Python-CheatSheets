{
 "cells": [
  {
   "cell_type": "code",
   "execution_count": 4,
   "id": "afafad52-d6ad-4b97-a0d4-67fea781dab4",
   "metadata": {},
   "outputs": [
    {
     "ename": "SyntaxError",
     "evalue": "invalid syntax (710398267.py, line 2)",
     "output_type": "error",
     "traceback": [
      "\u001b[1;36m  Cell \u001b[1;32mIn[4], line 2\u001b[1;36m\u001b[0m\n\u001b[1;33m    Returns the absolute value of a number.\u001b[0m\n\u001b[1;37m            ^\u001b[0m\n\u001b[1;31mSyntaxError\u001b[0m\u001b[1;31m:\u001b[0m invalid syntax\n"
     ]
    }
   ],
   "source": [
    "#abs() \n",
    "Returns the absolute value of a number."
   ]
  },
  {
   "cell_type": "code",
   "execution_count": null,
   "id": "dc83168e-06c7-4b64-9bd4-a0e757153cd0",
   "metadata": {},
   "outputs": [],
   "source": [
    "#aiter()\n"
   ]
  },
  {
   "cell_type": "code",
   "execution_count": null,
   "id": "76b25f3e-54d9-47ce-b78a-0cb40559b388",
   "metadata": {},
   "outputs": [],
   "source": [
    "#all()"
   ]
  },
  {
   "cell_type": "code",
   "execution_count": null,
   "id": "1dcc1911-c5e3-42d5-907d-70c22e213ab1",
   "metadata": {},
   "outputs": [],
   "source": [
    "#anext()\n"
   ]
  },
  {
   "cell_type": "code",
   "execution_count": null,
   "id": "7cccbc31-eef1-4997-a562-8447d2ebb797",
   "metadata": {},
   "outputs": [],
   "source": [
    "#any()"
   ]
  },
  {
   "cell_type": "code",
   "execution_count": null,
   "id": "e5ef626c-67be-4a76-addd-ef4847058d26",
   "metadata": {},
   "outputs": [],
   "source": [
    "#ascii()\n",
    "\n"
   ]
  },
  {
   "cell_type": "code",
   "execution_count": null,
   "id": "4e03cfb2-1afe-4f89-9e42-62dc151a4498",
   "metadata": {},
   "outputs": [],
   "source": [
    "#bin()"
   ]
  },
  {
   "cell_type": "code",
   "execution_count": null,
   "id": "767e65aa-34e8-40dc-b57a-02a7964012ae",
   "metadata": {},
   "outputs": [],
   "source": [
    "#bool()"
   ]
  },
  {
   "cell_type": "code",
   "execution_count": null,
   "id": "7eb23cee-10f8-4eee-b1c1-79c72ec3fbcf",
   "metadata": {},
   "outputs": [],
   "source": [
    "#breakpoint()"
   ]
  },
  {
   "cell_type": "code",
   "execution_count": null,
   "id": "4e43f600-3acb-45cc-a6f8-528af2a7b8ee",
   "metadata": {},
   "outputs": [],
   "source": [
    "#bytearray()\n"
   ]
  },
  {
   "cell_type": "code",
   "execution_count": null,
   "id": "6589074a-5493-49a8-8c56-7e42ea612a0e",
   "metadata": {},
   "outputs": [],
   "source": [
    "bytes()"
   ]
  },
  {
   "cell_type": "code",
   "execution_count": null,
   "id": "6be6ff73-1d2d-48dd-b62b-2ddae77ccb02",
   "metadata": {},
   "outputs": [],
   "source": [
    "#callable()"
   ]
  },
  {
   "cell_type": "code",
   "execution_count": null,
   "id": "4d58ba1e-e327-4a1c-b683-5d0b7da01209",
   "metadata": {},
   "outputs": [],
   "source": [
    "#chr()\n"
   ]
  },
  {
   "cell_type": "code",
   "execution_count": null,
   "id": "984f3c87-d4b6-45a5-989e-ee9a5441ed31",
   "metadata": {},
   "outputs": [],
   "source": [
    "classmethod()"
   ]
  },
  {
   "cell_type": "code",
   "execution_count": null,
   "id": "e61831b6-59cf-4d04-bd9e-fa21dda44ef9",
   "metadata": {},
   "outputs": [],
   "source": [
    "#compile()"
   ]
  },
  {
   "cell_type": "code",
   "execution_count": null,
   "id": "3f7e9ddf-3973-4176-9d7c-e19ba6f5295c",
   "metadata": {},
   "outputs": [],
   "source": [
    "#complex()"
   ]
  },
  {
   "cell_type": "code",
   "execution_count": null,
   "id": "1986179e-b547-4971-bb35-10e349b526cd",
   "metadata": {},
   "outputs": [],
   "source": [
    "delattr()"
   ]
  },
  {
   "cell_type": "code",
   "execution_count": null,
   "id": "c25d5ea5-5efc-4262-a6a0-ba168f4eaa52",
   "metadata": {},
   "outputs": [],
   "source": [
    "#dict()"
   ]
  },
  {
   "cell_type": "code",
   "execution_count": null,
   "id": "337d6143-d1b0-46fc-9ef2-6b65dbfeafa1",
   "metadata": {},
   "outputs": [],
   "source": [
    "#dir()"
   ]
  },
  {
   "cell_type": "code",
   "execution_count": null,
   "id": "1e976438-0de1-443a-bd54-6b60a356704c",
   "metadata": {},
   "outputs": [],
   "source": [
    "#divmod()"
   ]
  },
  {
   "cell_type": "code",
   "execution_count": null,
   "id": "a37ca69f-e455-4967-baa8-5ca68967d094",
   "metadata": {},
   "outputs": [],
   "source": [
    "#enumerate()"
   ]
  },
  {
   "cell_type": "code",
   "execution_count": null,
   "id": "157189fd-77bc-472d-bc2d-1e04c2db4391",
   "metadata": {},
   "outputs": [],
   "source": [
    "#eval()"
   ]
  },
  {
   "cell_type": "code",
   "execution_count": 5,
   "id": "a43cae0a-fb3d-477a-848c-80a1c793e827",
   "metadata": {},
   "outputs": [],
   "source": [
    "#exec()"
   ]
  },
  {
   "cell_type": "code",
   "execution_count": 6,
   "id": "6d94ebb6-574d-4864-b430-0bc7b121f0ba",
   "metadata": {},
   "outputs": [],
   "source": [
    "#filter()"
   ]
  },
  {
   "cell_type": "code",
   "execution_count": 7,
   "id": "741ec0b6-1f66-4938-801c-d622ae6e04a0",
   "metadata": {},
   "outputs": [],
   "source": [
    "#float()"
   ]
  },
  {
   "cell_type": "code",
   "execution_count": 8,
   "id": "14fb6447-817d-4dfe-a941-d1a47328a59c",
   "metadata": {},
   "outputs": [],
   "source": [
    "#format()"
   ]
  },
  {
   "cell_type": "code",
   "execution_count": 9,
   "id": "3178cd8a-43d5-49d7-a78a-7bdc94a6e884",
   "metadata": {},
   "outputs": [],
   "source": [
    "#frozenset()"
   ]
  },
  {
   "cell_type": "code",
   "execution_count": 10,
   "id": "e858b359-99ae-43c4-8da0-8d8ef1c76c20",
   "metadata": {},
   "outputs": [],
   "source": [
    "#getattr()"
   ]
  },
  {
   "cell_type": "code",
   "execution_count": 11,
   "id": "b919b1ac-f306-4fcb-97ea-8348384acb6d",
   "metadata": {},
   "outputs": [],
   "source": [
    "#globals()\n"
   ]
  },
  {
   "cell_type": "code",
   "execution_count": 12,
   "id": "8649aa35-61fb-4ba4-bf7f-26dcf1043e72",
   "metadata": {},
   "outputs": [],
   "source": [
    "#hasattr()"
   ]
  },
  {
   "cell_type": "code",
   "execution_count": 13,
   "id": "d82e6cb6-0f37-4ee7-8178-6a1943e04318",
   "metadata": {
    "scrolled": true
   },
   "outputs": [],
   "source": [
    "#hash()"
   ]
  },
  {
   "cell_type": "code",
   "execution_count": 14,
   "id": "8492c69f-6c32-4f28-aec1-3b0c96a20e28",
   "metadata": {},
   "outputs": [],
   "source": [
    "#help()"
   ]
  },
  {
   "cell_type": "code",
   "execution_count": 15,
   "id": "7262ade9-4bd8-475a-9016-73f3d96fca30",
   "metadata": {},
   "outputs": [],
   "source": [
    "#hex()"
   ]
  },
  {
   "cell_type": "code",
   "execution_count": 16,
   "id": "ac90ab2f-4892-49a8-84e1-379ce546c87f",
   "metadata": {},
   "outputs": [],
   "source": [
    "#id()"
   ]
  },
  {
   "cell_type": "code",
   "execution_count": 17,
   "id": "ac59325c-ba91-40a3-abe7-c71c853aee34",
   "metadata": {},
   "outputs": [],
   "source": [
    "#isinstance()"
   ]
  },
  {
   "cell_type": "code",
   "execution_count": 18,
   "id": "5647913c-05cc-4ee8-9d9a-e4d3e733d45f",
   "metadata": {},
   "outputs": [],
   "source": [
    "#issubclass()"
   ]
  },
  {
   "cell_type": "code",
   "execution_count": 19,
   "id": "c5661862-6427-46f3-b8ce-459156cb5304",
   "metadata": {},
   "outputs": [
    {
     "ename": "TypeError",
     "evalue": "iter expected at least 1 argument, got 0",
     "output_type": "error",
     "traceback": [
      "\u001b[1;31m---------------------------------------------------------------------------\u001b[0m",
      "\u001b[1;31mTypeError\u001b[0m                                 Traceback (most recent call last)",
      "Cell \u001b[1;32mIn[19], line 1\u001b[0m\n\u001b[1;32m----> 1\u001b[0m \u001b[38;5;28miter\u001b[39m()\n",
      "\u001b[1;31mTypeError\u001b[0m: iter expected at least 1 argument, got 0"
     ]
    }
   ],
   "source": [
    "#iter()"
   ]
  },
  {
   "cell_type": "code",
   "execution_count": 20,
   "id": "9a308ca4-cb23-4210-b107-004cf35f4ddf",
   "metadata": {},
   "outputs": [],
   "source": [
    "#len()"
   ]
  },
  {
   "cell_type": "code",
   "execution_count": 21,
   "id": "811bf57e-e89c-47cd-b918-6f7ac5c03b04",
   "metadata": {},
   "outputs": [],
   "source": [
    "#list()"
   ]
  },
  {
   "cell_type": "code",
   "execution_count": 22,
   "id": "e135e6ce-90f7-474c-98aa-c5062eb7ad35",
   "metadata": {},
   "outputs": [],
   "source": [
    "#locals()"
   ]
  },
  {
   "cell_type": "code",
   "execution_count": 23,
   "id": "b52b5f34-601e-4356-9967-ea386e2a4450",
   "metadata": {},
   "outputs": [],
   "source": [
    "#map()"
   ]
  },
  {
   "cell_type": "code",
   "execution_count": 24,
   "id": "9439b8aa-172a-4bdb-bd0a-83c1a6cea026",
   "metadata": {},
   "outputs": [],
   "source": [
    "#max()"
   ]
  },
  {
   "cell_type": "code",
   "execution_count": 25,
   "id": "0621be9f-c1a7-4ba6-be37-6cdfcc106d61",
   "metadata": {},
   "outputs": [],
   "source": [
    "#memoryview()"
   ]
  },
  {
   "cell_type": "code",
   "execution_count": 26,
   "id": "2e8dbd74-055f-4ddb-82d8-d047dcf759da",
   "metadata": {},
   "outputs": [],
   "source": [
    "#min()"
   ]
  },
  {
   "cell_type": "code",
   "execution_count": 27,
   "id": "eab9fcc0-ae31-4670-a272-9d385861b69c",
   "metadata": {},
   "outputs": [],
   "source": [
    "#next()"
   ]
  },
  {
   "cell_type": "code",
   "execution_count": 28,
   "id": "e7785f42-adf8-4279-b0cd-f912e5ded2d7",
   "metadata": {},
   "outputs": [],
   "source": [
    "#object()"
   ]
  },
  {
   "cell_type": "code",
   "execution_count": 29,
   "id": "0cdc0b5f-fdc5-4436-9bfb-2554fa2d4e5b",
   "metadata": {},
   "outputs": [],
   "source": [
    "#oct()"
   ]
  },
  {
   "cell_type": "code",
   "execution_count": 30,
   "id": "6241e402-2114-4cb6-8a4e-96fe14967d46",
   "metadata": {},
   "outputs": [],
   "source": [
    "#open()\n"
   ]
  },
  {
   "cell_type": "code",
   "execution_count": 31,
   "id": "fa09a6ee-69de-4538-86c6-b2c4b14aa159",
   "metadata": {},
   "outputs": [],
   "source": [
    "#ord()"
   ]
  },
  {
   "cell_type": "code",
   "execution_count": 32,
   "id": "56d72413-1fb5-46ad-8f93-197bd3fc1065",
   "metadata": {},
   "outputs": [],
   "source": [
    "#pow()"
   ]
  },
  {
   "cell_type": "code",
   "execution_count": 33,
   "id": "c89b9784-c0b5-472a-9b5d-6339504f676f",
   "metadata": {},
   "outputs": [],
   "source": [
    "#print()"
   ]
  },
  {
   "cell_type": "code",
   "execution_count": 34,
   "id": "a222d909-eebb-48ca-9c96-d8f4abe90a54",
   "metadata": {},
   "outputs": [],
   "source": [
    "#property()"
   ]
  },
  {
   "cell_type": "code",
   "execution_count": 35,
   "id": "aeaba012-9ecb-483f-b94a-dd9724b28a64",
   "metadata": {},
   "outputs": [],
   "source": [
    "#range()"
   ]
  },
  {
   "cell_type": "code",
   "execution_count": 36,
   "id": "811725a6-f8e5-4087-8be1-114ccd1cb413",
   "metadata": {},
   "outputs": [],
   "source": [
    "#repr()"
   ]
  },
  {
   "cell_type": "code",
   "execution_count": 37,
   "id": "bb86fb28-f3c7-438f-9d97-0515da344a0e",
   "metadata": {},
   "outputs": [],
   "source": [
    "#reversed()"
   ]
  },
  {
   "cell_type": "code",
   "execution_count": 38,
   "id": "5f137016-871d-4eff-b539-7decba15cc6d",
   "metadata": {},
   "outputs": [],
   "source": [
    "#round()"
   ]
  },
  {
   "cell_type": "code",
   "execution_count": 39,
   "id": "f9f87bd2-fec7-4370-891b-a52825670dfa",
   "metadata": {},
   "outputs": [],
   "source": [
    "#set()"
   ]
  },
  {
   "cell_type": "code",
   "execution_count": 40,
   "id": "c06387ce-71a3-46a1-b2b5-04c9024ccc06",
   "metadata": {},
   "outputs": [],
   "source": [
    "#setattr()"
   ]
  },
  {
   "cell_type": "code",
   "execution_count": 41,
   "id": "b4d4dc9d-9bba-4ecc-89e6-6e17ef2db7a2",
   "metadata": {},
   "outputs": [],
   "source": [
    "#slice()"
   ]
  },
  {
   "cell_type": "code",
   "execution_count": 42,
   "id": "cb9124ea-07b4-41b8-8739-8d6bf40c3ebb",
   "metadata": {},
   "outputs": [],
   "source": [
    "#sorted()"
   ]
  },
  {
   "cell_type": "code",
   "execution_count": 43,
   "id": "d00231b8-ca45-4fd5-b4dc-3f2b5a83a397",
   "metadata": {},
   "outputs": [],
   "source": [
    "#staticmethod()"
   ]
  },
  {
   "cell_type": "code",
   "execution_count": 44,
   "id": "71cea727-4832-410c-928b-3af0fac5e80b",
   "metadata": {},
   "outputs": [],
   "source": [
    "#str()"
   ]
  },
  {
   "cell_type": "code",
   "execution_count": 45,
   "id": "61b76ca8-d8fd-4ad2-9e41-eed73a27a777",
   "metadata": {},
   "outputs": [],
   "source": [
    "#sum()"
   ]
  },
  {
   "cell_type": "code",
   "execution_count": 46,
   "id": "259800b3-0150-40d8-b971-0dadcec4bbfa",
   "metadata": {},
   "outputs": [],
   "source": [
    "#super()"
   ]
  },
  {
   "cell_type": "code",
   "execution_count": 47,
   "id": "9ef25d53-9eb9-4917-9c3f-ac44223c7cd1",
   "metadata": {},
   "outputs": [],
   "source": [
    "#tuple()"
   ]
  },
  {
   "cell_type": "code",
   "execution_count": 48,
   "id": "2e668184-2288-4ce3-bda8-5846f3b28623",
   "metadata": {},
   "outputs": [],
   "source": [
    "#type()"
   ]
  },
  {
   "cell_type": "code",
   "execution_count": 49,
   "id": "6fa68360-bd23-489c-a1e8-bebf8c84ca58",
   "metadata": {},
   "outputs": [],
   "source": [
    "#vars()"
   ]
  },
  {
   "cell_type": "code",
   "execution_count": 50,
   "id": "ba3bdf5c-e06f-43c6-86ea-80e8370dd26f",
   "metadata": {},
   "outputs": [],
   "source": [
    "#__import__()"
   ]
  },
  {
   "cell_type": "code",
   "execution_count": null,
   "id": "af5572f2-5799-4ce0-a654-b87801242561",
   "metadata": {},
   "outputs": [],
   "source": []
  }
 ],
 "metadata": {
  "kernelspec": {
   "display_name": "Python 3 (ipykernel)",
   "language": "python",
   "name": "python3"
  },
  "language_info": {
   "codemirror_mode": {
    "name": "ipython",
    "version": 3
   },
   "file_extension": ".py",
   "mimetype": "text/x-python",
   "name": "python",
   "nbconvert_exporter": "python",
   "pygments_lexer": "ipython3",
   "version": "3.11.5"
  }
 },
 "nbformat": 4,
 "nbformat_minor": 5
}

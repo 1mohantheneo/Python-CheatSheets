{
 "cells": [
  {
   "cell_type": "markdown",
   "id": "e2cbb2ec-8f66-479c-90fa-620751f3632e",
   "metadata": {},
   "source": [
    "# 1. Python Popular Frameworks and Libraries"
   ]
  },
  {
   "cell_type": "markdown",
   "id": "df0a27a1-ee01-4d47-abef-43c49022cd60",
   "metadata": {},
   "source": [
    "## Web Development(server-side)\n",
    "Django, Flask, Pyramid, CherryPy"
   ]
  },
  {
   "cell_type": "markdown",
   "id": "f48e4f94-632e-4c56-9883-8c3ab2b7a0a5",
   "metadata": {},
   "source": [
    "## GUIs based applications\n",
    "Tk, PyGTK, PyQt, PyJs, etc."
   ]
  },
  {
   "cell_type": "markdown",
   "id": "d911417c-9ff4-467a-9a8a-5a1c3816a137",
   "metadata": {},
   "source": [
    "## Machine Learning\n",
    "TensorFlow, PyTorch, Scikit-Learn, Matplotlib, Scipy, etc."
   ]
  },
  {
   "cell_type": "markdown",
   "id": "b2eb5fdf-4d1a-4d0e-bbee-e20288f61f3d",
   "metadata": {},
   "source": [
    "## Mathematics\n",
    "Numpy, Pandas, etc."
   ]
  },
  {
   "cell_type": "markdown",
   "id": "b72806f0-39ef-4e69-b5ba-a40cbc76cc41",
   "metadata": {},
   "source": [
    "## BeautifulSoup\n",
    "A library for web scraping and parsing HTML and XML."
   ]
  },
  {
   "cell_type": "markdown",
   "id": "0317c976-b79e-4ac0-ac68-96f4c1a5d210",
   "metadata": {},
   "source": [
    "## Requests\n",
    "A library for making HTTPs requests"
   ]
  },
  {
   "cell_type": "code",
   "execution_count": null,
   "id": "75188f53-ca33-4f8e-9e03-c3999c09ea64",
   "metadata": {},
   "outputs": [],
   "source": []
  }
 ],
 "metadata": {
  "kernelspec": {
   "display_name": "Python 3 (ipykernel)",
   "language": "python",
   "name": "python3"
  },
  "language_info": {
   "codemirror_mode": {
    "name": "ipython",
    "version": 3
   },
   "file_extension": ".py",
   "mimetype": "text/x-python",
   "name": "python",
   "nbconvert_exporter": "python",
   "pygments_lexer": "ipython3",
   "version": "3.11.5"
  }
 },
 "nbformat": 4,
 "nbformat_minor": 5
}

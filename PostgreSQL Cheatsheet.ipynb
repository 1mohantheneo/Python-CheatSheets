{
 "cells": [
  {
   "cell_type": "code",
   "execution_count": 1,
   "id": "18130b6c",
   "metadata": {},
   "outputs": [],
   "source": [
    "# To connect Django to PostgreSQL , you have to install \"psycopg2\" module on your system or virtual environment."
   ]
  },
  {
   "cell_type": "markdown",
   "id": "def288e1",
   "metadata": {},
   "source": [
    "### pip install psycopg2"
   ]
  },
  {
   "cell_type": "code",
   "execution_count": null,
   "id": "6e0841e5",
   "metadata": {},
   "outputs": [],
   "source": []
  }
 ],
 "metadata": {
  "kernelspec": {
   "display_name": "Python 3 (ipykernel)",
   "language": "python",
   "name": "python3"
  },
  "language_info": {
   "codemirror_mode": {
    "name": "ipython",
    "version": 3
   },
   "file_extension": ".py",
   "mimetype": "text/x-python",
   "name": "python",
   "nbconvert_exporter": "python",
   "pygments_lexer": "ipython3",
   "version": "3.7.0"
  }
 },
 "nbformat": 4,
 "nbformat_minor": 5
}
